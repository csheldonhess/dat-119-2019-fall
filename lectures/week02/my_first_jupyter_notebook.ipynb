{
 "cells": [
  {
   "cell_type": "markdown",
   "metadata": {},
   "source": [
    "Run the code in the following block, and paste what it outputs into the Blackboard assignment text field. You do not have to understand what this code does right now; all you're doing is proving to me that you are able to run it. "
   ]
  },
  {
   "cell_type": "code",
   "execution_count": null,
   "metadata": {},
   "outputs": [],
   "source": [
    "import string\n",
    "\n",
    "chars = string.ascii_letters + string.punctuation + string.digits\n",
    "\n",
    "char_list = []\n",
    "index = 0\n",
    "\n",
    "for char in chars:\n",
    "    if index % 5 == 0:\n",
    "        char_list.append(char)\n",
    "    index += 1\n",
    "    \n",
    "char_list.sort()\n",
    "\n",
    "char_string = \" \".join(char_list)\n",
    "\n",
    "print(char_string)"
   ]
  },
  {
   "cell_type": "code",
   "execution_count": null,
   "metadata": {},
   "outputs": [],
   "source": []
  }
 ],
 "metadata": {
  "kernelspec": {
   "display_name": "Python 3",
   "language": "python",
   "name": "python3"
  },
  "language_info": {
   "codemirror_mode": {
    "name": "ipython",
    "version": 3
   },
   "file_extension": ".py",
   "mimetype": "text/x-python",
   "name": "python",
   "nbconvert_exporter": "python",
   "pygments_lexer": "ipython3",
   "version": "3.7.3"
  }
 },
 "nbformat": 4,
 "nbformat_minor": 2
}

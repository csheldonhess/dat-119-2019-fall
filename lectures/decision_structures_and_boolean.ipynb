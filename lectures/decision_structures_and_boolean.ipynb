{
 "cells": [
  {
   "cell_type": "markdown",
   "metadata": {},
   "source": [
    "Boolean expressions and conditional checks\n",
    "=====================================\n",
    "\n",
    "All of the code we've written up to this point runs in the order we put it in, line by line, with every line being executed. That's a fine way to solve a lot of problems, but we live in a world of uncertainty, right? Sometimes we need a program to act differently based on variations in the inputs our users might give it.\n",
    "\n",
    "Enter Booleans.\n",
    "\n",
    "Generally speaking, Booleans allow us to make decision statements. We can use this to check inputs, create more complex algorithms, and perform data filtering.\n",
    "\n",
    "Let's review an essential concept:  the expression. Expressions are valid pieces of code that evaluate to a value. For example:\n",
    "\n",
    "* `2 + 2` evaluates to `4`\n",
    "* `8 % 2` evaluates to `0`\n",
    "\n",
    "Crafting a decision statement requires that you create a **Boolean expression**. These may also be called \"**conditional checks**.\" They are expressions that evaluate to either `True` or `False`.\n",
    "\n",
    "Boolean is both a concept (logic, etc) and a data type.\n",
    "\n",
    "* **bool**: this is a data type, representing the two logical objects\n",
    "    * **`True`** and **`False`**: these are the two Boolean objects available in Python; note that capitalization matters\n",
    "* __conditional check__: this is an expression will end up as `True` or `False`.  Examples will be anything that has the `==` in it, or a method/function that returns a `True` or `False`. You can also use `!=` to indicate 'not equal to'.\n",
    "\n",
    "If you think back to the code.org exercises we did at the beginning of the semester, we used `if` statements there:\n",
    "* `if path to the right`\n",
    "* `if path ahead, do ... else ...` \n",
    "\n",
    "Crafting a Boolean expression\n",
    "========================\n",
    "\n",
    "Boolean expressions evaluate to either `True` or `False`, and there are several ways to create them.  The two primary ways are using an operator (math looking thing) or a method/function (including a custom function that you write ... soon, but not today!) specifically designed to return a Boolean value.\n",
    "\n",
    "Core Boolean operators\n",
    "----------------------------------\n",
    "\n",
    "* `==` (read as \"double equals\")  this is the equality check operator, which should appear between two objects and will return either `True` or `False`, e.g.: \n",
    "    * `1 == 1` will return `True`\n",
    "    * `2 == 4` will return `False`\n",
    "    * Important:  this will check equivalence and not object identity. This is a concept that we will not really be covering too heavily. But you may see the `is` keyword, which will check identity. This may appear to be functionally equivalent, but that is not the case. You'll learn more about `is` later.\n",
    "* `!=` (read as \"not equals\") this is the inverse of the equality check operator.\n",
    "    * `1 == 1` will return `False`\n",
    "    * `2 == 4` will return `True` \n",
    "    \n",
    "Then the usual math suspects:\n",
    "\n",
    "* `>` (greater than)\n",
    "* `<` (less than)\n",
    "* `<=` (less than or equal to)\n",
    "* `>=` (greater than or equal to) \n",
    "\n",
    "There is an important distinction between the `greater/less than` and the `greater/less than or equal to` operators. Example: 10 is not less than 10, but it is equal to it. So if you were trying to check if something is a number up to or including 10, you need to use `num <= 10`. This is functionally equivalent to `num < 11`.  You will develop your own personal style.\n",
    " \n",
    "    \n",
    "General steps for writing conditional statements\n",
    "=======================================\n",
    "\n",
    "1. *Figure out the Boolean expression that tests what your truth is.* Pay attention to the language of the question in your head (or in your planning document) and try to match that. Experiment with this expression on your data or a representative sample of the data, printing out the Boolean results to do an eyeball spot check.\n",
    "2. Add that expression into an `if` block\n",
    "3. Add bits and bobs as necessary\n",
    "\n",
    "**One of the most common errors in constructing boolean checks is inversing what you are checking for. Check for what you want. Do not check for what you do not want.**\n",
    "    \n",
    "# the `if` block\n",
    "\n",
    "Your first step is to figure out the Boolean expression that you want to be checking. Once you have that, you can place it into your `if` block.  \n",
    "\n",
    "This `if` block must appear once and at the beginning of every decision structure. You can add stuff after it, but we'll look at it alone first.\n",
    "\n",
    "This is a one-way check. You will provide it a Boolean expression, and the code in the `if` block will be executed if that expression evaluates to `True`. Nothing will happen if the condition evaluates to `False`. We'll explore how we can build off this `if` block later, but we need to get this down first.\n",
    "\n",
    "* `if` - this is your base keyword that every conditional check that will open with, and you may only use this once at the very beginning. You have to pass this a conditional check.  Example usage:\n",
    "    * ```python\n",
    "    if boolean_expression:\n",
    "        # stuff to do if the conditional check is True```\n",
    "        \n",
    "We're going to work on a program that checks if a child's height is within limits for a roller coaster ride.  All passengers must be 34 inches or above.\n",
    "\n",
    "All conditional checks require 3 pieces:\n",
    "\n",
    "1.  The thing being cheked, usually this is your variable\n",
    "2.  The thing to check it against\n",
    "3.  How do you want to check it?\n",
    "\n",
    "Let's answer this for our current problem:\n",
    "\n",
    "1.  We want to check the child's height in the variable: `height_of_child_inches`\n",
    "2.  We want to check that against the minimum height of 34 inches\n",
    "3.  This in inclusive, so anyone 34 inches or taller height can ride.  So we have `>=`\n",
    "\n",
    "Putting these three together, we have:\n",
    "\n",
    "`height_of_child_inches >= 34` \n",
    "\n",
    "Now we can place this in an `if` block."
   ]
  },
  {
   "cell_type": "code",
   "execution_count": 1,
   "metadata": {
    "collapsed": true
   },
   "outputs": [
    {
     "name": "stdout",
     "output_type": "stream",
     "text": [
      "This person can ride this attraction.\n"
     ]
    }
   ],
   "source": [
    "height_of_child_inches = 38\n",
    "\n",
    "if height_of_child_inches >= 34:\n",
    "    print(\"This person can ride this attraction.\")"
   ]
  },
  {
   "cell_type": "markdown",
   "metadata": {},
   "source": [
    "38 is indeed greater than or equal to 34, so the code in the if block executed.\n",
    "\n",
    "Next we'll look at what happen when it does not evaluate to `True`."
   ]
  },
  {
   "cell_type": "code",
   "execution_count": 3,
   "metadata": {
    "collapsed": true
   },
   "outputs": [],
   "source": [
    "height_of_child_inches = 32\n",
    "\n",
    "if height_of_child_inches >= 34:\n",
    "    print(\"The person can ride this attraction.\")"
   ]
  },
  {
   "cell_type": "markdown",
   "metadata": {},
   "source": [
    "32 is not greater than or equal to 34, so under a false contition, it did not execute the code under the for loop block.  Sometimes we'll be ok with just a single if statement, but in many cases it's nice to have some feedback that the conditional check evaluated as false.  This is where our next pattern comes in.\n",
    "\n",
    "Really quickly, first, though:"
   ]
  },
  {
   "cell_type": "code",
   "execution_count": 9,
   "metadata": {
    "collapsed": true
   },
   "outputs": [
    {
     "ename": "NameError",
     "evalue": "name 'text' is not defined",
     "output_type": "error",
     "traceback": [
      "\u001b[1;31m---------------------------------------------------------------------------\u001b[0m",
      "\u001b[1;31mNameError\u001b[0m                                 Traceback (most recent call last)",
      "\u001b[1;32m<ipython-input-9-8d0e84a8fc03>\u001b[0m in \u001b[0;36m<module>\u001b[1;34m()\u001b[0m\n\u001b[0;32m      3\u001b[0m \u001b[1;32mif\u001b[0m \u001b[1;36m5\u001b[0m \u001b[1;33m>\u001b[0m \u001b[1;36m6\u001b[0m\u001b[1;33m:\u001b[0m\u001b[1;33m\u001b[0m\u001b[0m\n\u001b[0;32m      4\u001b[0m     \u001b[0mtext\u001b[0m \u001b[1;33m=\u001b[0m \u001b[1;34m\"You know, an aquarium is a submarine for fish.\"\u001b[0m\u001b[1;33m\u001b[0m\u001b[0m\n\u001b[1;32m----> 5\u001b[1;33m \u001b[0mprint\u001b[0m\u001b[1;33m(\u001b[0m\u001b[0mtext\u001b[0m\u001b[1;33m)\u001b[0m\u001b[1;33m\u001b[0m\u001b[0m\n\u001b[0m",
      "\u001b[1;31mNameError\u001b[0m: name 'text' is not defined"
     ]
    }
   ],
   "source": [
    "# what do you think happens?\n",
    "\n",
    "if 5 > 6:\n",
    "    text = \"You know, an aquarium is a submarine for fish.\"\n",
    "print(text)"
   ]
  },
  {
   "cell_type": "markdown",
   "metadata": {},
   "source": [
    "You need to declare your variables **outside** of `if` blocks. This is important."
   ]
  },
  {
   "cell_type": "code",
   "execution_count": null,
   "metadata": {},
   "outputs": [],
   "source": [
    "# better: we initialized our variable as an empty string\n",
    "text = \"\"\n",
    "if 5 > 6:\n",
    "    text = \"You know, an aquarium is a submarine for fish.\"\n",
    "print(text)"
   ]
  },
  {
   "cell_type": "markdown",
   "metadata": {},
   "source": [
    "# The `if/else` pattern\n",
    "\n",
    "As you are starting with this and getting comfortable, I suggest that you always start with an `if/else` pattern (unless its clear that you need the next pattern--more on that later.  This pattern allows you to have two blocks of code:\n",
    "\n",
    "1. stuff to run if the condition is `True`, **this is the `if` block**\n",
    "2. stuff to run if the condition is `False`, **this is the `else` block**\n",
    "\n",
    "    * ```python\n",
    "    if (conditional check statement):\n",
    "        # stuff to do if the conditional check is True\n",
    "    else: \n",
    "        # stuff to do if the conditional check is False```\n",
    "        \n",
    "Things to note:\n",
    "\n",
    "* the `else` block opener is at the same indent level as the `if` statement\n",
    "* there's a colon after the `else,`  but no other code\n",
    "* even though there isn't any visual connection between these two blocks, they are connected.\n",
    "* the `else` statement may only appear after the `if` statement\n",
    "* the `else` statement may only appear when there is an `if` statement (so it cannot appear alone)\n",
    "\n",
    "Let's add something to our previous example, so that we can give a rejection statement if the potential rider is too short."
   ]
  },
  {
   "cell_type": "code",
   "execution_count": 5,
   "metadata": {
    "collapsed": true
   },
   "outputs": [
    {
     "name": "stdout",
     "output_type": "stream",
     "text": [
      "The person can ride this attraction.\n"
     ]
    }
   ],
   "source": [
    "height_of_child_inches = 36\n",
    "\n",
    "if height_of_child_inches >= 34:\n",
    "    print(\"The person can ride this attraction.\")\n",
    "else:\n",
    "    print(\"The person CANNOT ride this attraction.\")"
   ]
  },
  {
   "cell_type": "code",
   "execution_count": 6,
   "metadata": {
    "collapsed": true
   },
   "outputs": [
    {
     "name": "stdout",
     "output_type": "stream",
     "text": [
      "The person CANNOT ride this attraction.\n"
     ]
    }
   ],
   "source": [
    "height_of_child_inches = 32\n",
    "\n",
    "if height_of_child_inches >= 34:\n",
    "    print(\"The person can ride this attraction.\")\n",
    "else:\n",
    "    print(\"The person CANNOT ride this attraction.\")"
   ]
  },
  {
   "cell_type": "markdown",
   "metadata": {},
   "source": [
    "Now the user will recieve some feedback from our conditional block no matter what.  The `else` block will execute if the conditional in the `if` block evaluated to False."
   ]
  },
  {
   "cell_type": "markdown",
   "metadata": {},
   "source": [
    "The `if/elif/else` pattern\n",
    "===================\n",
    "\n",
    "We've covered the core concepts of using Booleans in our programs. `if/else` gets us most of the way there! But sometimes you need the `if/elif/else` combination, which allows us to create larger Boolean blocks, to have more precise control over the processing flow of our program.\n",
    "\n",
    "The pattern so far:\n",
    "\n",
    "```\n",
    "if something:\n",
    "    stuff to do if something is True\n",
    "else:\n",
    "    stuff to do if something is False\n",
    "```\n",
    "\n",
    "That `else` there belongs to the `if` block, and will only execute when that `if` condition is false. Keeping these two conditions together and dependent on each other will give us tighter control over our logical checks. This is effectively saying that there is only one question at hand, and there are 2 possible answers.  \n",
    "\n",
    "However, there are many cases where we have a single question but there are many possible answers. This is where `elif` comes in. It is short for \"else if\", and like the `else` statement, will only be attempted if the statement before it has a conditional check evaluate to `False`.  It may only appear after an `if` statement. Unlike an `else`, it can appear multiple times.\n",
    "\n",
    "\n",
    "# Core if/elif model\n",
    "\n",
    "* `elif`: short for 'else if', may come after an `if` block and should be on the same indent level as the parent `if` block.  Must be followed by a conditional check.  I almost always include an `else` statement with this structure, but it is not required.  Example usage:\n",
    "\n",
    "    * ```python\n",
    "    if x > 10:\n",
    "        print(\"it is greater than 10\")\n",
    "     elif x >= 0 and x < 10:\n",
    "         print(\"it is between 0 and 9 (inclusive)\")```\n",
    "* `else`: this is an optional block that will catch anything that didn't pass on the previous conditional checks, you may only use this once and it can only appear at the end.  Example usage:\n",
    "    * ```python\n",
    "    if x > 10:\n",
    "        print(\"it is greater than 10\")\n",
    "     elif x >= 0 and x < 10:\n",
    "         print(\"it is between 0 and 9 (inclusive)\")\n",
    "     else:\n",
    "         print(\"x is below 0\")\n",
    "         ```"
   ]
  },
  {
   "cell_type": "code",
   "execution_count": 8,
   "metadata": {
    "collapsed": true
   },
   "outputs": [
    {
     "name": "stdout",
     "output_type": "stream",
     "text": [
      "it is between 0 and 9 (inclusive)\n"
     ]
    }
   ],
   "source": [
    "x = 1\n",
    "\n",
    "if x > 10:\n",
    "    print(\"it is greater than 10\")\n",
    "elif x >= 0:\n",
    "     print(\"it is between 0 and 9 (inclusive)\")\n",
    "else:\n",
    "     print(\"x is below 0\")"
   ]
  },
  {
   "cell_type": "code",
   "execution_count": 9,
   "metadata": {
    "collapsed": true
   },
   "outputs": [
    {
     "name": "stdout",
     "output_type": "stream",
     "text": [
      "x is below 0\n"
     ]
    }
   ],
   "source": [
    "x = -9000\n",
    "\n",
    "if x > 10:\n",
    "    print(\"it is greater than 10\")\n",
    "elif x >= 0:\n",
    "     print(\"it is between 0 and 9 (inclusive)\")\n",
    "else:\n",
    "     print(\"x is below 0\")"
   ]
  },
  {
   "cell_type": "markdown",
   "metadata": {},
   "source": [
    "Our tl;dr summary:\n",
    "\n",
    "* `if`: required, only once, and always your first statement. Put a conditional check after.\n",
    "* `elif`: optional, may appear many times, and must be directly after an `if` statement. On the same block level as your `if` statement.\n",
    "* `else`: optional, may appear once, and only as your last statement in the `if` block. On the same block level as your `if` statement."
   ]
  },
  {
   "cell_type": "markdown",
   "metadata": {},
   "source": [
    "Practice:\n",
    "------------\n",
    "\n",
    "Have the user give you a number between 1 and 7. (Remember that input() gives you a string, so you need to cast it into an integer.)<br>\n",
    "Determine which day of the week the number corresponds to. (1 = Monday, 2 = Tuesday, ... 7 = Sunday.)<br>\n",
    "Output the day of the week for them. "
   ]
  },
  {
   "cell_type": "markdown",
   "metadata": {},
   "source": [
    "Compound Boolean statements\n",
    "==========================\n",
    "\n",
    "Sometimes several conditions must be met inside of the some conditional check area. We want to keep them together because we don't want to execute anything if just one of the pieces is true.  We can link multiple Boolean expressions with keywords such as `and` and `or`.\n",
    "\n",
    "If you use `and`, the statements on both sides must be true for the expression to evaluate to True.\n",
    "* `True and False` - false\n",
    "* `True and True` - true\n",
    "* `False and True` - false\n",
    "* `False and False` - false\n",
    "\n",
    "If you use `or`, the statement on either side can be true for the expression to evaluate to True.\n",
    "* `True and False` - true\n",
    "* `True and True` - true\n",
    "* `False and True` - true\n",
    "* `False and False` - false\n",
    "\n",
    "A note about running real life code: `True or False` (or, more realistically, *a statement that evaluates to True* `or` *a statement that evaluates to False*) will execute more quickly than `False or True` (*a statement that evaluates to False* `or` *a statement that evaluates to True*), because of something called \"short circuit evaluation.\" If the first half of an `or` statement is true, **it does not matter what the second half of the statement is**, because the whole statement is true. By the same token, `False and [anything]` will evaluate to False without the second half of the statement being examined. \n",
    "\n",
    "For some practical applications of compound Boolean statements, let's look at three possible ways to do a thing:"
   ]
  },
  {
   "cell_type": "code",
   "execution_count": 6,
   "metadata": {
    "collapsed": true
   },
   "outputs": [
    {
     "name": "stdout",
     "output_type": "stream",
     "text": [
      "Your grade is: pass\n"
     ]
    }
   ],
   "source": [
    "score = 75\n",
    "grade = \"noneset\"\n",
    "\n",
    "if score > 100:\n",
    "    grade = \"too high\"\n",
    "elif score >= 50:\n",
    "    grade = \"pass\"\n",
    "elif score >= 0:\n",
    "    grade = \"fail\"\n",
    "else:\n",
    "    grade = \"too low\"\n",
    "\n",
    "print(\"Your grade is:\", grade)"
   ]
  },
  {
   "cell_type": "code",
   "execution_count": 7,
   "metadata": {
    "collapsed": true
   },
   "outputs": [
    {
     "name": "stdout",
     "output_type": "stream",
     "text": [
      "Your grade is: pass\n"
     ]
    }
   ],
   "source": [
    "score = 75\n",
    "grade = \"noneset\"\n",
    "\n",
    "if score <= 100 and score >= 50:\n",
    "    grade = \"pass\"\n",
    "elif score <= 100 and score >= 0:\n",
    "    grade = \"fail\"\n",
    "else:\n",
    "    grade = \"invalid\"\n",
    "\n",
    "print(\"Your grade is:\", grade)"
   ]
  },
  {
   "cell_type": "code",
   "execution_count": 8,
   "metadata": {
    "collapsed": true
   },
   "outputs": [
    {
     "name": "stdout",
     "output_type": "stream",
     "text": [
      "Your grade is: pass\n"
     ]
    }
   ],
   "source": [
    "score = 75\n",
    "grade = \"noneset\"\n",
    "\n",
    "if score > 100 or score < 0:\n",
    "    grade = \"invalid\"\n",
    "elif score >= 50:\n",
    "    grade = \"pass\"\n",
    "elif score >= 0:\n",
    "    grade = \"fail\"\n",
    "else:\n",
    "    grade = \"invalid--ERROR\" # should never execute\n",
    "    \n",
    "print(\"Your grade is:\", grade)"
   ]
  },
  {
   "cell_type": "markdown",
   "metadata": {},
   "source": [
    "Practice\n",
    "--------\n",
    "\n",
    "Let's take a moment and practice with a short program. \n",
    "\n",
    "Have the user give you an age (remember to cast it to `float`).\n",
    "\n",
    "Tell the user whether the age represents an infant (up to the age of 1), a child (between the ages of 1 and 13), a teenager (between 13 and 20), or an adult (over the age of 20)."
   ]
  },
  {
   "cell_type": "code",
   "execution_count": null,
   "metadata": {
    "collapsed": true
   },
   "outputs": [],
   "source": []
  },
  {
   "cell_type": "markdown",
   "metadata": {},
   "source": [
    "in\n",
    "==\n",
    "\n",
    "The `in` keyword is something often used in conditionals, and it checks if some value is part of another value.  It works differently depending on the data type."
   ]
  },
  {
   "cell_type": "code",
   "execution_count": 7,
   "metadata": {
    "collapsed": true
   },
   "outputs": [
    {
     "name": "stdout",
     "output_type": "stream",
     "text": [
      "True\n",
      "False\n"
     ]
    }
   ],
   "source": [
    "print(\"lo\" in \"hello\")\n",
    "print(\"hi\" in \"hello\")"
   ]
  },
  {
   "cell_type": "code",
   "execution_count": 10,
   "metadata": {},
   "outputs": [
    {
     "name": "stdout",
     "output_type": "stream",
     "text": [
      "the string contains \"much\"\n"
     ]
    }
   ],
   "source": [
    "text = \"what if a much of a which of a wind\"\n",
    "\n",
    "if \"much\" in text:\n",
    "    print(\"the string contains \\\"much\\\"\")\n",
    "else:\n",
    "    print(\"the string does not contain \\\"much\\\"\")"
   ]
  },
  {
   "cell_type": "code",
   "execution_count": null,
   "metadata": {},
   "outputs": [],
   "source": []
  }
 ],
 "metadata": {
  "kernelspec": {
   "display_name": "Python 3",
   "language": "python",
   "name": "python3"
  },
  "language_info": {
   "codemirror_mode": {
    "name": "ipython",
    "version": 3
   },
   "file_extension": ".py",
   "mimetype": "text/x-python",
   "name": "python",
   "nbconvert_exporter": "python",
   "pygments_lexer": "ipython3",
   "version": "3.6.6"
  }
 },
 "nbformat": 4,
 "nbformat_minor": 2
}

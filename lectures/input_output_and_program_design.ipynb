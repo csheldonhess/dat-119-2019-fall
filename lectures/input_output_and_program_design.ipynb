{
 "cells": [
  {
   "cell_type": "markdown",
   "metadata": {},
   "source": [
    "Program Design\n",
    "=============\n",
    "\n",
    "Designing your program is more important than coding it. Before you write a single line of code, you should know what your program is going to do. What are your requirements for the program? What are your **inputs**, your **outputs**, and the processes that need to happen in between? What steps will the program need to take?\n",
    "\n",
    "When you plan, you write down (I mean that: physically write it down!) the **algorithm** you want your program to follow. The book's definition of \"algorithm\" is fine, but this one is simpler and easier to remember: \"a step-by-step method of solving a problem.\"\n",
    "\n",
    "The book is really keen on flowcharts, and there are definitely people who use those to reason through programming-type problems. [Here is a nice example of a decision-making flowchart.](https://technologyrediscovery.net/coursesGen/grades/gradeCards_fa18.html#flow) - This one wasn't used to make a program, but you can see how it could have been.\n",
    "\n",
    "Let's try making a flow chart for [one of the code.org problems](https://studio.code.org/s/20-hour/stage/2/puzzle/16).\n",
    "* [Here is one answer for the flow chart](img/flow_chart_maze.jpg). (I left the arrows off the ends of the lines, sorry.)\n",
    "* [Here is one answer for the set of code blocks](img/code_blocks_maze.png).\n",
    "\n",
    "An alternative to flow charts is pseudocode, which the textbook gives you formal-looking language for, but honestly? It's just writing out the steps in your own language, before you try to code them into the computer. If you prefer to think with flow charts, that is excellent; if you prefer to write out your steps, that is also excellent. As long as you make a plan before you start coding, I'm happy."
   ]
  },
  {
   "cell_type": "markdown",
   "metadata": {},
   "source": [
    "Getting to know Python\n",
    "===================\n",
    "\n",
    "In this section:\n",
    "* comments\n",
    "* functions (print(), input()) - calling, arguments\n",
    "* types - int, float, string, and boolean\n",
    "* strings\n",
    "* variables - assignment, reassignment, rules for naming\n",
    "* key words in Python\n",
    "* math operations\n",
    "* escape characters\n",
    "\n",
    "Comments\n",
    "----------------"
   ]
  },
  {
   "cell_type": "code",
   "execution_count": null,
   "metadata": {},
   "outputs": [],
   "source": [
    "# this is a comment\n",
    "# comments have no impact on the running of your code\n",
    "# they have HUGE IMPACT on the readability of your code!\n",
    "\n",
    "# this next line declares and assigns a value to a variable:\n",
    "a = \"coffee\"\n",
    "\n",
    "# and this next line holds a function:\n",
    "print(a)"
   ]
  },
  {
   "cell_type": "markdown",
   "metadata": {},
   "source": [
    "Functions\n",
    "--------------\n",
    "Functions are chunks of code that can be run again and again.\n",
    "\n",
    "We'll start by using functions other people have written (\"built-in functions\"), like print() and input(), but we'll get to write our own functions, too, before long!\n",
    "\n",
    "In the statement above, _print_ is the name of the function, and _a_ is the argument we're passing into it. Print sends a string to \"standard out.\" In simple terms, this means it prints to the place where you are running Python:\n",
    "* If you run Python in Jupyter notebooks, the output shows up immediately below the code block. \n",
    "* In the command line, it shows up right there in your shell. \n",
    "* In an integrated development environment like Spyder, it shows up in your console area.\n",
    "\n",
    "Just like print() is a way to make output, input() is a way to get input from the user. Both are built-in functions."
   ]
  },
  {
   "cell_type": "code",
   "execution_count": null,
   "metadata": {},
   "outputs": [],
   "source": [
    "# let's get input and send it to output\n",
    "text = input(\"Tell me what you're thinking: \")\n",
    "print(\"You're thinking\", text)"
   ]
  },
  {
   "cell_type": "markdown",
   "metadata": {},
   "source": [
    "The example above isn't an especially interesting program, admittedly. Most programs will _do something_ to the inputs before delivering outputs to the user. Although, notice: print() can take multiple arguments, strung together with columns.\n",
    "\n",
    "Let's write a program that prompts the user for their first name and their last name. Use the following variable names:\n",
    "* first_name\n",
    "* last_name\n",
    "\n",
    "And let's have it print a greeting to the user. If they said their first name was \"Monty\" and their last name was \"Python\", it should output \"Hello, Monty Python\" or something similar.\n",
    "\n",
    "(This can be done in a REPL, but let's go ahead and do this in Spyder. Save the file as **greeting.py**.)"
   ]
  },
  {
   "cell_type": "markdown",
   "metadata": {},
   "source": [
    "Data types\n",
    "---------------"
   ]
  },
  {
   "cell_type": "code",
   "execution_count": null,
   "metadata": {},
   "outputs": [],
   "source": [
    "# numbers\n",
    "\n",
    "print(1) # integers\n",
    "print(1.5) # floats\n",
    "print( type(1) )\n",
    "print( type(1.5) )"
   ]
  },
  {
   "cell_type": "code",
   "execution_count": null,
   "metadata": {},
   "outputs": [],
   "source": [
    "# strings\n",
    "\n",
    "print('text')\n",
    "print(\"text\")\n",
    "print(\"\"\"\n",
    "\n",
    "text\n",
    "\n",
    "\n",
    "\"\"\")\n",
    "print(type('text'))\n",
    "print(type(\"text\"))\n",
    "\n",
    "# many Pythonistas seem to default to double quotes\n",
    "# this makes life easier when dealing with apostrophes\n",
    "print(\"it's up to you\")"
   ]
  },
  {
   "cell_type": "code",
   "execution_count": null,
   "metadata": {},
   "outputs": [],
   "source": [
    "# booleans - this wasn't in chapter 2, but I want you to have a preview\n",
    "\n",
    "print(True)\n",
    "print(False)\n",
    "print(type(True))"
   ]
  },
  {
   "cell_type": "markdown",
   "metadata": {},
   "source": [
    "Variables and assignments\n",
    "--------------------------------------\n",
    "\n",
    "Think of variables like buckets that you can put things into. "
   ]
  },
  {
   "cell_type": "code",
   "execution_count": null,
   "metadata": {},
   "outputs": [],
   "source": [
    "# single assignment\n",
    "\n",
    "thing = 1\n",
    "\n",
    "# thing is my variable name, and 1 is the value.  \n",
    "# thing is now associated with the value of 1\n",
    "# when I print out 1 and thing, they would appear the same\n",
    "# the object type is also going to be the same, \n",
    "# because the variable inherits what the contents are\n",
    "\n",
    "print(1)\n",
    "print(thing)\n",
    "\n",
    "print( type(1) )\n",
    "print( type(thing) )\n",
    "\n",
    "# variables can be reassigned as needed\n",
    "thing = \"raven\"\n",
    "print(thing)"
   ]
  },
  {
   "cell_type": "code",
   "execution_count": null,
   "metadata": {},
   "outputs": [],
   "source": [
    "# multiple assignment\n",
    "\n",
    "# You won't use this too often, but you'll see it when we start\n",
    "# working with more complex data structures\n",
    "# copy this code into Spyder or the REPL, and play around with it a bit to explore\n",
    "\n",
    "x = 'fizzy'\n",
    "y = 'pop'\n",
    "\n",
    "a, b = x, y\n",
    "\n",
    "print(x, y)\n",
    "print(a, b)"
   ]
  },
  {
   "cell_type": "markdown",
   "metadata": {},
   "source": [
    "### Legal variable names:\n",
    "* Begin with a letter or an underscore (no numbers, no other punctuation)\n",
    "* Contain letters, underscores, and numbers\n",
    "\n",
    "\n",
    "### Illegal variable names:\n",
    "* Begin with anything other than a letter or an underscore\n",
    "* Contain spaces or punctuation besides underscores\n",
    "* Are Python keywords\n",
    "\n",
    "### Let's test ourselves!\n",
    "\n",
    "Which of these are legal?\n",
    "* data\n",
    "* dat4\n",
    "* \\_number\n",
    "* 1thing\n",
    "* this_is_a_long_name\n",
    "* print\n",
    "* Data\n",
    "\n",
    "OK, and are _data_ and _Data_ the same?\n",
    "\n",
    "Operators\n",
    "--------------"
   ]
  },
  {
   "cell_type": "code",
   "execution_count": null,
   "metadata": {},
   "outputs": [],
   "source": [
    "# operators\n",
    "\n",
    "print( 5 + 2 ) # addition\n",
    "print( 5 - 2 ) # subtraction\n",
    "print( 5 * 2 ) # multiplication\n",
    "print( 5 / 2 ) # division\n",
    "print( 5 // 2 ) # integer division\n",
    "print( 5 % 2 ) # modulo - the remainder after integer division\n",
    "print( 5 ** 2 ) # exponentiation (\"5 to the second power\")"
   ]
  },
  {
   "cell_type": "markdown",
   "metadata": {},
   "source": [
    "### Precedence\n",
    "\n",
    "1. Exponentiation\n",
    "2. Multiplication, division, and modulo\n",
    "3. Addition and subtraction"
   ]
  },
  {
   "cell_type": "code",
   "execution_count": null,
   "metadata": {},
   "outputs": [],
   "source": [
    "# we'll work through these in class; we need to understand how this works\n",
    "print(1 + 5 / 2)\n",
    "print(10 - 5 * 10 / 5 ** 2)"
   ]
  },
  {
   "cell_type": "markdown",
   "metadata": {},
   "source": [
    "Real talk, though: if you have any doubts, just use parentheses. Being explicit about what you mean when you're programming a computer is good.\n",
    "\n",
    "### A little more about data types...\n",
    "\n",
    "The data type of a variable can be changed, and not just through reassignment. Sometimes the type change is explicit:"
   ]
  },
  {
   "cell_type": "code",
   "execution_count": null,
   "metadata": {},
   "outputs": [],
   "source": [
    "my_var = 5\n",
    "print(type(my_var))\n",
    "\n",
    "# an explicit cast into float:\n",
    "my_var = float(my_var) # yes, we can do this!\n",
    "print(my_var)\n",
    "print(type(my_var))\n",
    "\n",
    "# and we can change it back\n",
    "my_var = int(my_var)\n",
    "print(my_var)\n",
    "print(type(my_var))\n",
    "\n",
    "# and we can make it non-numeric altogether\n",
    "my_var = str(my_var)\n",
    "print(my_var)\n",
    "print(type(my_var))"
   ]
  },
  {
   "cell_type": "markdown",
   "metadata": {},
   "source": [
    "Sometimes the type change is implicit (or accidental):"
   ]
  },
  {
   "cell_type": "code",
   "execution_count": null,
   "metadata": {},
   "outputs": [],
   "source": [
    "my_var = 5\n",
    "print(type(my_var))\n",
    "\n",
    "# combining ints and floats in your expressions nets you floats\n",
    "my_var = my_var + 1.0\n",
    "print(type(my_var))\n",
    "\n",
    "# sure, I did that on purpose, but you can see how it could happen accidentally"
   ]
  },
  {
   "cell_type": "code",
   "execution_count": null,
   "metadata": {},
   "outputs": [],
   "source": [
    "# in Python, there's usually more than one way to do a thing.\n",
    "# here's why I never think to use integer division:\n",
    "\n",
    "my_int = 25\n",
    "my_divisor = 4\n",
    "\n",
    "print(my_int / my_divisor) # normal division, gives you a float\n",
    "print(my_int // my_divisor) # integer division, gives you an int, truncated\n",
    "print(int(my_int / my_divisor)) # normal division, but then you cast to int; truncates"
   ]
  },
  {
   "cell_type": "markdown",
   "metadata": {},
   "source": [
    "My point in the previous block is that casting from float to int can cause you to lose data&mdash;anything after the decimal point is just ... cut off. (\"Truncated,\" formally speaking.)"
   ]
  },
  {
   "cell_type": "markdown",
   "metadata": {},
   "source": [
    "### Formatting numbers\n",
    "\n",
    "There's one more function we're going to discuss tonight. `format()`"
   ]
  },
  {
   "cell_type": "code",
   "execution_count": null,
   "metadata": {},
   "outputs": [],
   "source": [
    "pi = 3.14159\n",
    "\n",
    "# print pi, but only the first two digits after the decimal\n",
    "pi_truncated = format(pi, '.2f')\n",
    "print(pi_truncated)\n",
    "print(type(pi_truncated))"
   ]
  },
  {
   "cell_type": "markdown",
   "metadata": {},
   "source": [
    "### Using the + operator with strings\n",
    "\n",
    "You can probably get by without ever knowing this? But it's handy sometimes. "
   ]
  },
  {
   "cell_type": "code",
   "execution_count": null,
   "metadata": {},
   "outputs": [],
   "source": [
    "phrase1 = \"You know what's great?\"\n",
    "phrase2 = \"Birds.\"\n",
    "phrase3 = phrase1 + \" \" + phrase2\n",
    "print(phrase3)"
   ]
  },
  {
   "cell_type": "markdown",
   "metadata": {},
   "source": [
    "Styling our own code\n",
    "=================\n",
    "\n",
    "**\"Programs must be written for people to read, and only incidentally for machines to execute.\"** — Abelson & Sussman\n",
    "\n",
    "1. Write out your plan for the program, listing inputs, outputs, and intermediate steps before you start programming. You're going to turn this in. (If you are drawn to flowcharts and want to plan with those instead of text, that's really fine! Scan or photograph your flowchart, and submit it with the homework. I'll accept that as happily as a written plan.)\n",
    "\n",
    "\n",
    "2. Begin each file with a block that lists your name, the date you started writing the code, the course/semester, the assignment it's for, and a brief description of what it does. Here is a template (also, now you can see how to do a multi-line comment, which weirdly doesn't seem to work in Jupyter Notebooks):\n",
    "       \n",
    "    '''\n",
    "        Coral Sheldon-Hess\n",
    "        2/21/2019\n",
    "        Python 1 - DAT-119 - Spring 2019\n",
    "        Homework 3\n",
    "        Takes a list of five test scores from the user, computes the average, and \n",
    "         outputs it nicely.\n",
    "    '''\n",
    "    \n",
    "    (You don't have to use my exact format, but I expect yours to be equally readable.)\n",
    "\n",
    "\n",
    "3. Give variables useful names. (I used a variable called `a` above. That is not a useful name. What is `a`? Instead, maybe I should have used `favorite_beverage`.) Named constants should be in all caps, with underscores between words. For every other variable (this will be most of your variables), use \"snake case\": everything is lowercase, and multi-word variables have underscores between them. \n",
    "    * Good constants: INTEREST_RATE, PERCENTAGE\n",
    "    * Good variables: average_grade, first_name, favorite_animal\n",
    "    \n",
    "    \n",
    "4. Use comments. Your planning document can help guide what comments you need to use: was it worth writing down as a step? It's worth commenting. If you handed your code to a classmate, would a comment help them understand what it does? It's worth commenting.\n",
    "\n",
    "\n",
    "5. Put spaces around operators. There's no good reason to say something like `3+5/4` when `3 + 5 / 4` is more readable.\n",
    "\n",
    "\n",
    "6. Save your files as your_surname_homework_number.py. If there are multiple assignments, label them with letters. For instance, I might submit Sheldon-Hess_homework_1a.py and Sheldon-Hess_homework_1b.py (You may want to give them better names while you're working on them and in your GitHub, and then just change the filename to submit the homework.)\n",
    "\n",
    "\n",
    "7. Think of the user of your program, always. Do nice things for them, like adding the space in your input strings (`input(\"What is your name? \")` versus ~~input(\"What is your name?\")~~) and always making your outputs readable.\n",
    "\n",
    "\n",
    "8. Don't let your lines get too long. There are hardliners who insist on 80-character lines. I'm not them--my own code sometimes strays closer to 100 characters wide. But if an expression won't fit on a reasonable-size area without scrolling right, go ahead and break it up for readability. Use common sense. \n",
    "\n",
    "\n",
    "We'll add a few more rules to this list (which I'll put up in Blackboard, too), as we learn new tricks. But not very much more--this is the bulk of our style guide for the semester. "
   ]
  }
 ],
 "metadata": {
  "kernelspec": {
   "display_name": "Python 3",
   "language": "python",
   "name": "python3"
  },
  "language_info": {
   "codemirror_mode": {
    "name": "ipython",
    "version": 3
   },
   "file_extension": ".py",
   "mimetype": "text/x-python",
   "name": "python",
   "nbconvert_exporter": "python",
   "pygments_lexer": "ipython3",
   "version": "3.7.0"
  }
 },
 "nbformat": 4,
 "nbformat_minor": 2
}

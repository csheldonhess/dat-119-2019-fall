{
 "cells": [
  {
   "cell_type": "markdown",
   "metadata": {},
   "source": [
    "Program Design\n",
    "=============\n",
    "\n",
    "Designing your program is more important than coding it. Before you write a single line of code, you should know what your program is going to do. What are your requirements for the program? What are your **inputs**, your **outputs**, and the processes that need to happen in between? What steps will the program need to take?\n",
    "\n",
    "When you plan, you write down (I mean that: physically write it down!) the **algorithm** you want your program to follow. This is the definition I like to use for the word \"algorithm\": \"a step-by-step method of solving a problem.\"\n",
    "\n",
    "In the next chapter the textbook will talk about pseudocode, and it will give you formal-looking language for that, but honestly? It's just writing out the steps in your own language, before you try to code them into the computer. If you are familiar with flow charts and prefer to use those to think through problems, that is excellent; if you prefer to write out your steps, that is also excellent. As long as you make a plan before you start coding, I'm happy.\n",
    "\n",
    "You'll turn in your plan as a separate file with your code."
   ]
  },
  {
   "cell_type": "markdown",
   "metadata": {},
   "source": [
    "Getting to know Python\n",
    "===================\n",
    "\n",
    "In this section:\n",
    "* comments\n",
    "* functions (print(), input()) - calling, arguments\n",
    "* types - int, float, string, and boolean\n",
    "* strings\n",
    "* variables - assignment, reassignment, rules for naming\n",
    "* key words in Python\n",
    "* math operations\n",
    "* escape characters\n",
    "\n",
    "Comments\n",
    "----------------"
   ]
  },
  {
   "cell_type": "code",
   "execution_count": null,
   "metadata": {},
   "outputs": [],
   "source": [
    "# this is a comment\n",
    "# comments have no impact on the running of your code\n",
    "# they have HUGE IMPACT on the readability of your code!\n",
    "\n",
    "# this next line declares and assigns a value to a variable:\n",
    "a = \"coffee\"\n",
    "\n",
    "# and this next line holds a function:\n",
    "print(a)"
   ]
  },
  {
   "cell_type": "markdown",
   "metadata": {},
   "source": [
    "Functions\n",
    "--------------\n",
    "Functions are chunks of code that can be run again and again.\n",
    "\n",
    "We'll start by using functions other people have written (\"built-in functions\"), like `print()` and `input()`, but we'll get to write our own functions, too, before long!\n",
    "\n",
    "In the statement above, _print_ is the name of the function, and _a_ is the argument we're passing into it. `print()` sends a string to \"standard output.\" In simple terms, this means it prints to the place where you are running Python:\n",
    "* If you run Python in Jupyter notebooks, the output shows up immediately below the code block. \n",
    "* In the command line, it shows up right there in your shell. \n",
    "* In an integrated development environment like Spyder, it shows up in your console area.\n",
    "\n",
    "Just like `print()` is a way to make output, `input()` is a way to get input from the user. Both are **built-in functions**."
   ]
  },
  {
   "cell_type": "code",
   "execution_count": null,
   "metadata": {},
   "outputs": [],
   "source": [
    "# let's get input and send it to output\n",
    "text = input(\"Tell me what you're thinking: \")\n",
    "print(\"You're thinking\", text)"
   ]
  },
  {
   "cell_type": "markdown",
   "metadata": {},
   "source": [
    "The example above isn't an especially interesting program, admittedly. Most programs will _do something_ to the inputs before delivering outputs to the user. Although, notice: `print()` can take multiple arguments, strung together with commas.\n",
    "\n",
    "### Practice!\n",
    "\n",
    "Let's write a program that prompts the user for their first name and their last name. Use the following variable names:\n",
    "* first_name\n",
    "* last_name\n",
    "\n",
    "And let's have it print a greeting to the user. If they said their first name was \"Monty\" and their last name was \"Python\", it should output \"Hello, Monty Python\" or something similar.\n",
    "\n",
    "(This can be done in a REPL, but let's go ahead and do this in Spyder.)"
   ]
  },
  {
   "cell_type": "markdown",
   "metadata": {},
   "source": [
    "Data types\n",
    "---------------"
   ]
  },
  {
   "cell_type": "code",
   "execution_count": null,
   "metadata": {},
   "outputs": [],
   "source": [
    "# numbers\n",
    "\n",
    "print(1) # integers\n",
    "print(1.5) # floats\n",
    "print( type(1) )\n",
    "print( type(1.5) )"
   ]
  },
  {
   "cell_type": "code",
   "execution_count": null,
   "metadata": {},
   "outputs": [],
   "source": [
    "# strings\n",
    "\n",
    "print('text')\n",
    "print(\"text\")\n",
    "print(\"\"\"\n",
    "\n",
    "text\n",
    "\n",
    "\n",
    "\"\"\")\n",
    "print(type('text'))\n",
    "print(type(\"text\"))\n",
    "\n",
    "# many Pythonistas seem to default to double quotes\n",
    "# this makes life easier when dealing with apostrophes\n",
    "print(\"it's up to you\")"
   ]
  },
  {
   "cell_type": "code",
   "execution_count": null,
   "metadata": {},
   "outputs": [],
   "source": [
    "# booleans \n",
    "\n",
    "print(True)\n",
    "print(False)\n",
    "print(type(True))"
   ]
  },
  {
   "cell_type": "markdown",
   "metadata": {},
   "source": [
    "Variables and assignments\n",
    "--------------------------------------\n",
    "\n",
    "Think of variables like buckets that you can put things into. "
   ]
  },
  {
   "cell_type": "code",
   "execution_count": null,
   "metadata": {},
   "outputs": [],
   "source": [
    "# single assignment statement\n",
    "\n",
    "thing = 1\n",
    "\n",
    "# thing is my variable name, and 1 is the value.  \n",
    "# thing is now associated with the value of 1\n",
    "# when I print out 1 and thing, they would appear the same\n",
    "# the object type is also going to be the same, \n",
    "# because the variable inherits what the contents are\n",
    "\n",
    "print(1)\n",
    "print(thing)\n",
    "\n",
    "print( type(1) )\n",
    "print( type(thing) )\n",
    "\n",
    "# variables can be reassigned as needed\n",
    "# and it's fine to change the type on reassignment\n",
    "# (this is not like some other programming languages)\n",
    "thing = \"raven\"\n",
    "print(thing)"
   ]
  },
  {
   "cell_type": "code",
   "execution_count": null,
   "metadata": {},
   "outputs": [],
   "source": [
    "# multiple assignment\n",
    "\n",
    "# You won't use this too often, but you'll see it when we start\n",
    "# working with more complex data structures\n",
    "# copy this code into Spyder or the REPL, and play around with it a bit to explore\n",
    "\n",
    "x = 'fizzy'\n",
    "y = 'pop'\n",
    "\n",
    "a, b = x, y\n",
    "\n",
    "print(x, y)\n",
    "print(a, b)"
   ]
  },
  {
   "cell_type": "markdown",
   "metadata": {},
   "source": [
    "### Legal variable names:\n",
    "* Begin with a letter or an underscore (no numbers, no other punctuation)\n",
    "* Contain letters, underscores, and numbers\n",
    "\n",
    "\n",
    "### Illegal variable names:\n",
    "* Begin with anything other than a letter or an underscore\n",
    "* Contain spaces or punctuation besides underscores\n",
    "* Are Python keywords\n",
    "\n",
    "### Let's test ourselves!\n",
    "\n",
    "Which of these are legal?\n",
    "* data\n",
    "* dat4\n",
    "* \\_number\n",
    "* 1thing\n",
    "* this_is_a_long_name\n",
    "* print\n",
    "* Data\n",
    "\n",
    "OK, and are _data_ and _Data_ the same?\n",
    "\n",
    "Operators\n",
    "--------------"
   ]
  },
  {
   "cell_type": "code",
   "execution_count": null,
   "metadata": {},
   "outputs": [],
   "source": [
    "# operators\n",
    "\n",
    "print( 5 + 2 ) # addition\n",
    "print( 5 - 2 ) # subtraction\n",
    "print( 5 * 2 ) # multiplication\n",
    "print( 5 / 2 ) # division\n",
    "print( 5 // 2 ) # integer division\n",
    "print( 5 % 2 ) # modulo - the remainder after integer division\n",
    "print( 5 ** 2 ) # exponentiation (\"5 to the second power\")"
   ]
  },
  {
   "cell_type": "code",
   "execution_count": null,
   "metadata": {},
   "outputs": [],
   "source": [
    "# the main place you'll see modulo:\n",
    "x = 25\n",
    "\n",
    "if x % 5 == 0:\n",
    "    print(\"even!\")\n",
    "if x % 5 != 0:\n",
    "    print(\"odd!\")"
   ]
  },
  {
   "cell_type": "markdown",
   "metadata": {},
   "source": [
    "### Precedence\n",
    "\n",
    "1. Exponentiation\n",
    "2. Multiplication, division, and modulo\n",
    "3. Addition and subtraction"
   ]
  },
  {
   "cell_type": "code",
   "execution_count": null,
   "metadata": {},
   "outputs": [],
   "source": [
    "# we'll work through these in class; we need to understand how this works\n",
    "print(1 + 5 / 2)\n",
    "print(10 - 5 * 10 / 5 ** 2)"
   ]
  },
  {
   "cell_type": "markdown",
   "metadata": {},
   "source": [
    "Real talk, though: if you have any doubts, just use parentheses. Being explicit about what you mean when you're programming a computer is good."
   ]
  },
  {
   "cell_type": "code",
   "execution_count": null,
   "metadata": {},
   "outputs": [],
   "source": [
    "print((5 * 5) + 5) # I won't ever get mad at you for this"
   ]
  },
  {
   "cell_type": "markdown",
   "metadata": {},
   "source": [
    "## `max()`, `min()`, and determining ranges\n",
    "\n",
    "Python has _all kinds_ of built-in functions to help us out, including two that will take in sets of numbers and output their maximum and minimum, respectively. "
   ]
  },
  {
   "cell_type": "code",
   "execution_count": 4,
   "metadata": {},
   "outputs": [
    {
     "name": "stdout",
     "output_type": "stream",
     "text": [
      "Max:  303\n",
      "Min:  13\n",
      "Range:  290\n"
     ]
    }
   ],
   "source": [
    "num1 = 42\n",
    "num2 = 20\n",
    "num3 = 303\n",
    "num4 = 13\n",
    "num5 = 48\n",
    "\n",
    "data_set_max = max(num1, num2, num3, num4, num5)\n",
    "data_set_min = min(num1, num2, num3, num4, num5)\n",
    "\n",
    "print(\"Max: \", data_set_max)\n",
    "print(\"Min: \", data_set_min)\n",
    "\n",
    "# and because the book didn't say this explicitly:\n",
    "data_set_range = data_set_max - data_set_min\n",
    "\n",
    "print(\"Range: \", data_set_range)"
   ]
  },
  {
   "cell_type": "markdown",
   "metadata": {},
   "source": [
    "### A little more about data types...\n",
    "\n",
    "The data type of a variable can be changed, and not just through reassignment. Sometimes the type change is explicit:"
   ]
  },
  {
   "cell_type": "code",
   "execution_count": null,
   "metadata": {},
   "outputs": [],
   "source": [
    "my_var = 5\n",
    "print(type(my_var))\n",
    "\n",
    "# an explicit cast into float:\n",
    "my_var = float(my_var) # yes, we can do this!\n",
    "print(my_var)\n",
    "print(type(my_var))\n",
    "\n",
    "# and we can change it back\n",
    "my_var = int(my_var)\n",
    "print(my_var)\n",
    "print(type(my_var))\n",
    "\n",
    "# and we can make it non-numeric altogether\n",
    "my_var = str(my_var)\n",
    "print(my_var)\n",
    "print(type(my_var))"
   ]
  },
  {
   "cell_type": "markdown",
   "metadata": {},
   "source": [
    "Sometimes the type change is implicit (or accidental):"
   ]
  },
  {
   "cell_type": "code",
   "execution_count": null,
   "metadata": {},
   "outputs": [],
   "source": [
    "my_var = 5\n",
    "print(type(my_var))\n",
    "\n",
    "# combining ints and floats in your expressions nets you floats\n",
    "my_var = my_var + 1.0\n",
    "print(type(my_var))\n",
    "\n",
    "# sure, I did that on purpose, but you can see how it could happen accidentally"
   ]
  },
  {
   "cell_type": "code",
   "execution_count": null,
   "metadata": {},
   "outputs": [],
   "source": [
    "# in Python, there's usually more than one way to do a thing.\n",
    "# here's why I never think to use integer division:\n",
    "\n",
    "my_int = 25\n",
    "my_divisor = 4\n",
    "\n",
    "print(my_int / my_divisor) # normal division, gives you a float\n",
    "print(my_int // my_divisor) # integer division, gives you an int, truncated\n",
    "print(int(my_int / my_divisor)) # normal division, but then you cast to int; truncates"
   ]
  },
  {
   "cell_type": "markdown",
   "metadata": {},
   "source": [
    "My point in the previous block is that casting from float to int can cause you to lose data&mdash;anything after the decimal point is just ... cut off. (\"Truncated,\" formally speaking.)\n",
    "\n",
    "Also, sometimes you _have to_ cast something to a new type to be able to use it."
   ]
  },
  {
   "cell_type": "code",
   "execution_count": null,
   "metadata": {},
   "outputs": [],
   "source": [
    "# get a number from the user\n",
    "my_num = input(\"Give me a number: \")\n",
    "print(type(my_num))\n",
    "\n",
    "# oh no"
   ]
  },
  {
   "cell_type": "code",
   "execution_count": null,
   "metadata": {},
   "outputs": [],
   "source": [
    "# make the number into actually a number\n",
    "my_num = int(my_num)\n",
    "print(type(my_num))\n",
    "print(my_num)"
   ]
  },
  {
   "cell_type": "markdown",
   "metadata": {},
   "source": [
    "### Formatting numbers\n",
    "\n",
    "There's one more function we're going to discuss tonight. `format()`\n",
    "\n",
    "Format is **awesome** because it actually rounds the number, instead of just truncating."
   ]
  },
  {
   "cell_type": "code",
   "execution_count": null,
   "metadata": {},
   "outputs": [],
   "source": [
    "pi = 3.14159\n",
    "\n",
    "# print pi, but only the first two digits after the decimal\n",
    "pi_truncated = format(pi, '.2f')\n",
    "print(pi_truncated)\n",
    "print(type(pi_truncated))"
   ]
  },
  {
   "cell_type": "markdown",
   "metadata": {},
   "source": [
    "### Using the + operator with strings\n",
    "\n",
    "You can probably get by without ever knowing this? But it's handy sometimes. "
   ]
  },
  {
   "cell_type": "code",
   "execution_count": null,
   "metadata": {},
   "outputs": [],
   "source": [
    "phrase1 = \"You know what's great?\"\n",
    "phrase2 = \"Birds.\"\n",
    "phrase3 = phrase1 + \" \" + phrase2\n",
    "print(phrase3)"
   ]
  },
  {
   "cell_type": "markdown",
   "metadata": {},
   "source": [
    "## Just a couple of things to know about `print()`\n",
    "\n",
    "These aren't vital right now, but they'll come up periodically and can sometimes make creating output for your user a little easier/less awkward. Play around with them and have fun!\n",
    "* `print(a_string, end=b_string)`\n",
    "* `print(a_string, b_string, c_string sep=d_string)`"
   ]
  },
  {
   "cell_type": "code",
   "execution_count": null,
   "metadata": {},
   "outputs": [],
   "source": [
    "# let's try end=\" \"\n",
    "print(\"I love birds\", end=\" \")\n",
    "print(\"and lizards!\")"
   ]
  },
  {
   "cell_type": "code",
   "execution_count": null,
   "metadata": {},
   "outputs": [],
   "source": [
    "# now let's try sep=\", \"\n",
    "first_string = \"birds\"\n",
    "second_string = \"lizards\"\n",
    "third_string = \"coffee\"\n",
    "print(\"I love\", first_string, second_string, \"and\", third_string, sep=\", \")\n",
    "\n",
    "# could we accomplish something similar with plus signs?"
   ]
  },
  {
   "cell_type": "markdown",
   "metadata": {},
   "source": [
    "Styling our own code\n",
    "=================\n",
    "\n",
    "There's a style guide in Blackboard. We'll pull that up."
   ]
  },
  {
   "cell_type": "code",
   "execution_count": null,
   "metadata": {},
   "outputs": [],
   "source": []
  }
 ],
 "metadata": {
  "kernelspec": {
   "display_name": "Python 3",
   "language": "python",
   "name": "python3"
  },
  "language_info": {
   "codemirror_mode": {
    "name": "ipython",
    "version": 3
   },
   "file_extension": ".py",
   "mimetype": "text/x-python",
   "name": "python",
   "nbconvert_exporter": "python",
   "pygments_lexer": "ipython3",
   "version": "3.7.1"
  }
 },
 "nbformat": 4,
 "nbformat_minor": 2
}

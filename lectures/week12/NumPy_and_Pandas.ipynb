{
 "cells": [
  {
   "cell_type": "markdown",
   "metadata": {},
   "source": [
    "# NumPy\n",
    "\n",
    "Before we get into NumPy and Pandas, I want to show (remind?) you that we can do basic descriptive statistics without ever importing a data science library in Python."
   ]
  },
  {
   "cell_type": "code",
   "execution_count": 17,
   "metadata": {},
   "outputs": [
    {
     "name": "stdout",
     "output_type": "stream",
     "text": [
      "Min: 2\n",
      "Max: 83\n",
      "Range: 2 - 83\n",
      "Sum: 616\n",
      "Count: 16\n",
      "Average: 38.5\n"
     ]
    }
   ],
   "source": [
    "some_numbers = [26, 83, 35, 39, 31, 11, 30, 44, 42, 65, 30, 2, 29, 38, 43, 68]\n",
    "\n",
    "# minimum, maximum, range\n",
    "print(\"Min:\", min(some_numbers))\n",
    "print(\"Max:\", max(some_numbers))\n",
    "print(\"Range:\", min(some_numbers), \"-\", max(some_numbers))\n",
    "\n",
    "# sum, count, average\n",
    "print(\"Sum:\", sum(some_numbers))\n",
    "print(\"Count:\", len(some_numbers))\n",
    "print(\"Average:\", sum(some_numbers)/len(some_numbers))"
   ]
  },
  {
   "cell_type": "markdown",
   "metadata": {},
   "source": [
    "I guess if you want to call `statistics` a data science library, you do have to import _one_ data science library to get some of the descriptive statistics you might want to have."
   ]
  },
  {
   "cell_type": "code",
   "execution_count": 18,
   "metadata": {},
   "outputs": [
    {
     "name": "stdout",
     "output_type": "stream",
     "text": [
      "Average (mean): 38.5\n",
      "Median: 36.5\n",
      "Mode: 30\n",
      "Population variance: 385.25\n",
      "Population standard deviation: 19.62778642639052\n"
     ]
    }
   ],
   "source": [
    "import statistics\n",
    "\n",
    "# mean, median, mode\n",
    "print(\"Average (mean):\", statistics.mean(some_numbers))\n",
    "print(\"Median:\", statistics.median(some_numbers))\n",
    "# this will throw an error if you have a multi-modal distribution\n",
    "print(\"Mode:\", statistics.mode(some_numbers))\n",
    "\n",
    "# measures of dispersion: variance, standard deviation\n",
    "print(\"Population variance:\", statistics.pvariance(some_numbers))\n",
    "print(\"Population standard deviation:\", statistics.pstdev(some_numbers))"
   ]
  },
  {
   "cell_type": "markdown",
   "metadata": {},
   "source": [
    "So... we can run all of those exciting functions on lists. Why would we need anything bigger?\n",
    "\n",
    "Well.\n",
    "\n",
    "For one thing, lists are slow. For another..."
   ]
  },
  {
   "cell_type": "code",
   "execution_count": 25,
   "metadata": {},
   "outputs": [
    {
     "name": "stdout",
     "output_type": "stream",
     "text": [
      "[[26, 83, 35, 39], [31, 11, 30, 44], [42, 65, 30, 2], [29, 38, 43, 68]]\n",
      "First number: 26\n",
      "Last number: 68\n"
     ]
    }
   ],
   "source": [
    "# 4 elements by 4 elements\n",
    "some_more_numbers = [[26, 83, 35, 39], [31, 11, 30, 44], [42, 65, 30, 2], [29, 38, 43, 68]]\n",
    "\n",
    "print(some_more_numbers)\n",
    "\n",
    "# just a reminder that this is legal\n",
    "print(\"First number:\", some_more_numbers[0][0])\n",
    "print(\"Last number:\", some_more_numbers[3][3])\n",
    "\n",
    "# print(\"Mode:\", statistics.mode(some_more_numbers))"
   ]
  },
  {
   "cell_type": "markdown",
   "metadata": {},
   "source": [
    "## NumPy\n",
    "\"Numerical Python\" is a way for us to store and do *very fast* math with multi-dimensional arrays of numbers in Python. \n",
    "\n",
    "It underlies SciPy (\"Scientific Python\"), Pandas (which we'll talk about later tonight), Keras (a machine learning library), and TensorFlow (which our Artificial Intelligence class uses, and we _might_ use in DAT-202), and we get it for free with Anaconda Distribution.\n",
    "\n",
    "It expects that every element is the same type -- an int or a float. "
   ]
  },
  {
   "cell_type": "code",
   "execution_count": 2,
   "metadata": {},
   "outputs": [],
   "source": [
    "# the traditional way we import numpy\n",
    "import numpy as np"
   ]
  },
  {
   "cell_type": "markdown",
   "metadata": {},
   "source": [
    "Now, we can create our own NumPy array, of course, but also, if we are trying to work on lists and find that we've hit a wall, as above, we can also cast lists into NumPy arrays:"
   ]
  },
  {
   "cell_type": "code",
   "execution_count": 32,
   "metadata": {},
   "outputs": [
    {
     "name": "stdout",
     "output_type": "stream",
     "text": [
      "[[26 83 35 39]\n",
      " [31 11 30 44]\n",
      " [42 65 30  2]\n",
      " [29 38 43 68]]\n"
     ]
    }
   ],
   "source": [
    "np_nums = np.array(some_more_numbers)\n",
    "\n",
    "# look how nicely it prints!\n",
    "print(np_nums)\n",
    "\n",
    "# note for coral: point out right-alignment of the 2"
   ]
  },
  {
   "cell_type": "code",
   "execution_count": 52,
   "metadata": {
    "scrolled": false
   },
   "outputs": [
    {
     "name": "stdout",
     "output_type": "stream",
     "text": [
      "Our 2-D list: <class 'list'>\n",
      "Our np array: <class 'numpy.ndarray'>\n"
     ]
    }
   ],
   "source": [
    "# a NumPy array is literally a different type of thing than a multi-dimensional list:\n",
    "print(\"Our 2-D list:\", type(some_more_numbers))\n",
    "print(\"Our np array:\", type(np_nums))"
   ]
  },
  {
   "cell_type": "markdown",
   "metadata": {},
   "source": [
    "### Creating a NumPy array\n",
    "\n",
    "#### Arrays from Python native types\n",
    "Restating: you can make a NumPy array from a list. Or a tuple! We're just type-casting here."
   ]
  },
  {
   "cell_type": "code",
   "execution_count": 45,
   "metadata": {},
   "outputs": [
    {
     "name": "stdout",
     "output_type": "stream",
     "text": [
      "[[26 83 35 39]\n",
      " [31 11 30 44]\n",
      " [42 65 30  2]\n",
      " [29 38 43 68]]\n",
      "\n",
      "[[1 2 3]\n",
      " [4 5 6]\n",
      " [7 8 9]]\n"
     ]
    }
   ],
   "source": [
    "# from a list of lists\n",
    "# restating what we did above; \n",
    "# just using a hard-coded list of lists:\n",
    "np_nums = np.array([[26, 83, 35, 39], [31, 11, 30, 44], [42, 65, 30, 2], [29, 38, 43, 68]])\n",
    "\n",
    "# same as np_nums = np.array(some_more_numbers) above\n",
    "\n",
    "# from a tuple of tuples\n",
    "np_tup_nums = np.array(((1, 2, 3), (4, 5, 6), (7, 8, 9)))\n",
    "\n",
    "print(np_nums)\n",
    "print(\"\") #space\n",
    "print(np_tup_nums)"
   ]
  },
  {
   "cell_type": "markdown",
   "metadata": {},
   "source": [
    "#### Creating arrays full of constant values\n",
    "\n",
    "* `.zeros((rows, columns), dtype=int/float)` - make a whole array of zeros\n",
    "* `.full((rows, columns), value)` - make an array with an arbitrary value"
   ]
  },
  {
   "cell_type": "code",
   "execution_count": 36,
   "metadata": {},
   "outputs": [
    {
     "name": "stdout",
     "output_type": "stream",
     "text": [
      "[[0 0 0 0 0]\n",
      " [0 0 0 0 0]\n",
      " [0 0 0 0 0]\n",
      " [0 0 0 0 0]\n",
      " [0 0 0 0 0]]\n",
      "\n",
      "[[13 13 13 13 13 13 13 13 13 13 13 13 13]\n",
      " [13 13 13 13 13 13 13 13 13 13 13 13 13]\n",
      " [13 13 13 13 13 13 13 13 13 13 13 13 13]\n",
      " [13 13 13 13 13 13 13 13 13 13 13 13 13]\n",
      " [13 13 13 13 13 13 13 13 13 13 13 13 13]\n",
      " [13 13 13 13 13 13 13 13 13 13 13 13 13]\n",
      " [13 13 13 13 13 13 13 13 13 13 13 13 13]\n",
      " [13 13 13 13 13 13 13 13 13 13 13 13 13]\n",
      " [13 13 13 13 13 13 13 13 13 13 13 13 13]\n",
      " [13 13 13 13 13 13 13 13 13 13 13 13 13]\n",
      " [13 13 13 13 13 13 13 13 13 13 13 13 13]\n",
      " [13 13 13 13 13 13 13 13 13 13 13 13 13]\n",
      " [13 13 13 13 13 13 13 13 13 13 13 13 13]]\n"
     ]
    }
   ],
   "source": [
    "# make an array of zeros:\n",
    "np_zeros = np.zeros((5,5), dtype=int) # could also do float\n",
    "\n",
    "# make an array of arbitrary whatevers\n",
    "# in this case, we filled it with 13s\n",
    "np_unlucky = np.full((13, 13), 13)\n",
    "\n",
    "print(np_zeros)\n",
    "print(\"\") #space\n",
    "print(np_unlucky)"
   ]
  },
  {
   "cell_type": "markdown",
   "metadata": {},
   "source": [
    "#### Arrays with ranges of values\n",
    "\n",
    "* `.arange(start, end, count_by)` - specify where you start, where you end, and **how much space between** elements\n",
    "* `.linspace(start, end, num=how_many)` - specify where you start, where you end, and **how many** elements"
   ]
  },
  {
   "cell_type": "code",
   "execution_count": 51,
   "metadata": {},
   "outputs": [
    {
     "name": "stdout",
     "output_type": "stream",
     "text": [
      "[ 0  5 10 15 20 25 30 35 40 45 50 55 60 65 70 75 80 85 90 95]\n",
      "\n",
      "[  0.           7.14285714  14.28571429  21.42857143  28.57142857\n",
      "  35.71428571  42.85714286  50.          57.14285714  64.28571429\n",
      "  71.42857143  78.57142857  85.71428571  92.85714286 100.        ]\n"
     ]
    }
   ],
   "source": [
    "# from 0 to 100, counting by 5s\n",
    "# defaults to ints, but can be made into floats\n",
    "np_range = np.arange(0, 100, 5)\n",
    "\n",
    "# 15 points between 0 and 100\n",
    "# floats!\n",
    "np_lspace = np.linspace(0, 100, 15)\n",
    "\n",
    "print(np_range)\n",
    "print(\"\") #space\n",
    "print(np_lspace)"
   ]
  },
  {
   "cell_type": "markdown",
   "metadata": {},
   "source": [
    "### Reshaping arrays\n",
    "\n",
    "OK, those `arange()` and `linspace()` arrays are neat, but they're only one-dimensional? Sometimes, that's what you want, but often it isn't. I'll go so far as to say \"usually,\" it isn't. It's fine, though, because we can reshape our data as needed. \n",
    "\n",
    "Let's fix it! \n",
    "\n",
    "Unsurprisingly, the command is `.reshape(rows, columns)`"
   ]
  },
  {
   "cell_type": "code",
   "execution_count": 67,
   "metadata": {},
   "outputs": [
    {
     "name": "stdout",
     "output_type": "stream",
     "text": [
      "[[ 0  5 10 15 20]\n",
      " [25 30 35 40 45]\n",
      " [50 55 60 65 70]\n",
      " [75 80 85 90 95]]\n",
      "\n",
      "[[  0.           7.14285714  14.28571429  21.42857143  28.57142857]\n",
      " [ 35.71428571  42.85714286  50.          57.14285714  64.28571429]\n",
      " [ 71.42857143  78.57142857  85.71428571  92.85714286 100.        ]]\n"
     ]
    }
   ],
   "source": [
    "# worth noting: arrays are not changed in place\n",
    "np_range = np_range.reshape(4, 5)\n",
    "\n",
    "np_lspace = np_lspace.reshape(3, 5)\n",
    "\n",
    "print(np_range)\n",
    "print(\"\") # space\n",
    "print(np_lspace)"
   ]
  },
  {
   "cell_type": "markdown",
   "metadata": {},
   "source": [
    "#### Flattening\n",
    "\n",
    "OK, and let's say you have a multi-dimensional array that you want to make into a one-dimensional array. Cool."
   ]
  },
  {
   "cell_type": "code",
   "execution_count": 110,
   "metadata": {},
   "outputs": [
    {
     "name": "stdout",
     "output_type": "stream",
     "text": [
      "[ 0  5 10 15 20 25 30 35 40 45 50 55 60 65 70 75 80 85 90 95]\n"
     ]
    }
   ],
   "source": [
    "np_flat_range = np_range.flatten()\n",
    "\n",
    "# subtly different:\n",
    "#np_flat_range = np_range.reshape(1, 20)\n",
    "\n",
    "print(np_flat_range)"
   ]
  },
  {
   "cell_type": "markdown",
   "metadata": {},
   "source": [
    "### Getting things out of our arrays\n",
    "\n",
    "We can slice NumPy arrays a lot like we'd slice lists, with one slight change in syntax. Instead of `list_name[x][y]`, we need to do `array_name[x, y]`. Otherwise, slicing is very similar. The main trick is keeping straight which is the row and which is the column."
   ]
  },
  {
   "cell_type": "code",
   "execution_count": 37,
   "metadata": {},
   "outputs": [
    {
     "name": "stdout",
     "output_type": "stream",
     "text": [
      "First value: 26\n",
      "Last value: 68\n"
     ]
    }
   ],
   "source": [
    "# getting a single value out is slightly different:\n",
    "# restating our array\n",
    "np_nums = np.array([[26, 83, 35, 39], [31, 11, 30, 44], [42, 65, 30, 2], [29, 38, 43, 68]])\n",
    "\n",
    "# comma notation instead of double-bracket notation\n",
    "print(\"First value:\", np_nums[0,0])\n",
    "print(\"Last value:\", np_nums[3,3])"
   ]
  },
  {
   "cell_type": "code",
   "execution_count": 93,
   "metadata": {},
   "outputs": [
    {
     "name": "stdout",
     "output_type": "stream",
     "text": [
      "First row: [26 83 35 39]\n"
     ]
    }
   ],
   "source": [
    "# getting out a row\n",
    "print(\"First row:\", np_nums[0])"
   ]
  },
  {
   "cell_type": "code",
   "execution_count": 94,
   "metadata": {},
   "outputs": [
    {
     "name": "stdout",
     "output_type": "stream",
     "text": [
      "First column: [26 31 42 29]\n"
     ]
    }
   ],
   "source": [
    "# getting out a column\n",
    "print(\"First column:\", np_nums[:, 0])"
   ]
  },
  {
   "cell_type": "code",
   "execution_count": 99,
   "metadata": {},
   "outputs": [
    {
     "name": "stdout",
     "output_type": "stream",
     "text": [
      "Second and third row, second and third column:\n",
      " [[11 30]\n",
      " [65 30]]\n"
     ]
    }
   ],
   "source": [
    "# getting the middle four values\n",
    "print(\"Second and third row, second and third column:\\n\", np_nums[1:3, 1:3])"
   ]
  },
  {
   "cell_type": "code",
   "execution_count": 101,
   "metadata": {},
   "outputs": [
    {
     "name": "stdout",
     "output_type": "stream",
     "text": [
      "First and last row:\n",
      " [[26 83 35 39]\n",
      " [29 38 43 68]]\n",
      "First and last column:\n",
      " [[26 39]\n",
      " [31 44]\n",
      " [42  2]\n",
      " [29 68]]\n"
     ]
    }
   ],
   "source": [
    "# getting out non-adjacent rows\n",
    "print(\"First and last row:\\n\", np_nums[[0, 3]])\n",
    "\n",
    "#getting out non-adjacent columns\n",
    "print(\"First and last column:\\n\", np_nums[:, [0, 3]])"
   ]
  },
  {
   "cell_type": "markdown",
   "metadata": {},
   "source": [
    "A cool thing about NumPy arrays is that they know about themselves, so you can interrogate them:\n",
    "* How many dimensions do you have? `.ndim`\n",
    "* What shape are you? `.shape`\n",
    "* How many elements do you have? `.size`\n",
    "* How many bytes are there in an individual element? `.itemsize`\n",
    "* What data type are your elements (in C)? `.dtype`"
   ]
  },
  {
   "cell_type": "code",
   "execution_count": 59,
   "metadata": {},
   "outputs": [
    {
     "name": "stdout",
     "output_type": "stream",
     "text": [
      "Dimensions: 2\n",
      "Shape, (rows, columns): (4, 4)\n",
      "Size: 16\n",
      "Size of an item in bytes: 8\n",
      "Data type of items: int64\n"
     ]
    }
   ],
   "source": [
    "print(\"Dimensions:\", np_nums.ndim)\n",
    "print(\"Shape, (rows, columns):\", np_nums.shape)\n",
    "print(\"Size:\", np_nums.size)\n",
    "print(\"Size of an item in bytes:\", np_nums.itemsize)\n",
    "print(\"Data type of items:\", np_nums.dtype)"
   ]
  },
  {
   "cell_type": "markdown",
   "metadata": {},
   "source": [
    "### Descriptive statistics\n",
    "\n",
    "You knew were were coming back to this eventually."
   ]
  },
  {
   "cell_type": "code",
   "execution_count": 69,
   "metadata": {},
   "outputs": [
    {
     "name": "stdout",
     "output_type": "stream",
     "text": [
      "Min: 2\n",
      "Max: 83\n",
      "Range: 2 - 83\n",
      "Sum: 616\n",
      "Count: 16\n",
      "Average: 38.5\n",
      "Variance: 385.25\n",
      "Standard deviation: 19.62778642639052\n"
     ]
    }
   ],
   "source": [
    "print(\"Min:\", np_nums.min())\n",
    "print(\"Max:\", np_nums.max())\n",
    "print(\"Range:\", np_nums.min(), \"-\", np_nums.max())\n",
    "print(\"Sum:\", np_nums.sum())\n",
    "print(\"Count:\", np_nums.size)\n",
    "print(\"Average:\", np_nums.mean())\n",
    "# there isn't one for mode \n",
    "print(\"Variance:\", np_nums.var())\n",
    "print(\"Standard deviation:\", np_nums.std())"
   ]
  },
  {
   "cell_type": "markdown",
   "metadata": {},
   "source": [
    "#### Looping through a NumPy Array\n",
    "I wanted to show you how to loop through an array anyway, so let's get the mode ourselves! (I'm not claiming this is the best possible way, or especially fast, but it will do the job, as long as there actually is a mode to be found.)"
   ]
  },
  {
   "cell_type": "code",
   "execution_count": 75,
   "metadata": {},
   "outputs": [
    {
     "name": "stdout",
     "output_type": "stream",
     "text": [
      "Mode: 30\n"
     ]
    }
   ],
   "source": [
    "# make an empty dictionary to hold unique values from our array\n",
    "vals_dict = {}\n",
    "\n",
    "# loop through the array row by row, then each column within a row\n",
    "for row in np_nums:\n",
    "    for col in row:\n",
    "        # just counting occurrences of particular values in the array\n",
    "        if col in vals_dict:\n",
    "            vals_dict[col] += 1\n",
    "        else:\n",
    "            vals_dict[col] = 1\n",
    "\n",
    "# now we're pulling the value that appeared the most often\n",
    "max_count = 0\n",
    "max_val = 0\n",
    "for val in vals_dict:\n",
    "    if vals_dict[val] > max_count:\n",
    "        max_count = vals_dict[val]\n",
    "        max_val = val\n",
    "\n",
    "mode = max_val\n",
    "print(\"Mode:\", mode)"
   ]
  },
  {
   "cell_type": "markdown",
   "metadata": {},
   "source": [
    "### Doing math with NumPy arrays\n",
    "\n",
    "#### Scalars\n",
    "There are a couple of different ways to do math (or \"math,\" if you count Boolean comparisons as math) with arrays. You can apply a single value (a scalar) to the entire array, piecewise, which is known as \"broadcasting\":"
   ]
  },
  {
   "cell_type": "code",
   "execution_count": 76,
   "metadata": {},
   "outputs": [
    {
     "name": "stdout",
     "output_type": "stream",
     "text": [
      "[[26 83 35 39]\n",
      " [31 11 30 44]\n",
      " [42 65 30  2]\n",
      " [29 38 43 68]]\n",
      "\n",
      "And then multiply it by 2:\n",
      "\n",
      "[[ 52 166  70  78]\n",
      " [ 62  22  60  88]\n",
      " [ 84 130  60   4]\n",
      " [ 58  76  86 136]]\n"
     ]
    }
   ],
   "source": [
    "# multiply every number in the array by the same amount\n",
    "np_nums2 = np_nums * 2\n",
    "\n",
    "print(np_nums)\n",
    "print(\"\\nAnd then multiply it by 2:\\n\")\n",
    "print(np_nums2)"
   ]
  },
  {
   "cell_type": "code",
   "execution_count": 77,
   "metadata": {},
   "outputs": [
    {
     "name": "stdout",
     "output_type": "stream",
     "text": [
      "[[26 83 35 39]\n",
      " [31 11 30 44]\n",
      " [42 65 30  2]\n",
      " [29 38 43 68]]\n",
      "\n",
      "And then add 2:\n",
      "\n",
      "[[28 85 37 41]\n",
      " [33 13 32 46]\n",
      " [44 67 32  4]\n",
      " [31 40 45 70]]\n"
     ]
    }
   ],
   "source": [
    "# add the same amount to every number in the array\n",
    "np_nums2 = np_nums + 2\n",
    "\n",
    "print(np_nums)\n",
    "print(\"\\nAnd then add 2:\\n\")\n",
    "print(np_nums2)"
   ]
  },
  {
   "cell_type": "code",
   "execution_count": 81,
   "metadata": {},
   "outputs": [
    {
     "name": "stdout",
     "output_type": "stream",
     "text": [
      "[[26 83 35 39]\n",
      " [31 11 30 44]\n",
      " [42 65 30  2]\n",
      " [29 38 43 68]]\n",
      "\n",
      "Our mode: 30 \n",
      "\n",
      "Is each element greater than the mode?\n",
      "\n",
      "[[False  True  True  True]\n",
      " [ True False False  True]\n",
      " [ True  True False False]\n",
      " [False  True  True  True]]\n"
     ]
    }
   ],
   "source": [
    "print(np_nums)\n",
    "\n",
    "# compare every number in the array with a set value\n",
    "# recall, we calculated a mode:\n",
    "print(\"\\nOur mode:\", mode, \"\\n\\nIs each element greater than the mode?\\n\")\n",
    "\n",
    "# so let's see how much of our array is larger than the mode\n",
    "print(np_nums > mode)"
   ]
  },
  {
   "cell_type": "markdown",
   "metadata": {},
   "source": [
    "#### Math with multiple arrays"
   ]
  },
  {
   "cell_type": "code",
   "execution_count": 86,
   "metadata": {},
   "outputs": [
    {
     "name": "stdout",
     "output_type": "stream",
     "text": [
      "[[1 2 3]\n",
      " [4 5 6]\n",
      " [7 8 9]]\n",
      "\n",
      "[[2 2 2]\n",
      " [2 2 2]\n",
      " [2 2 2]]\n"
     ]
    }
   ],
   "source": [
    "# set up two arrays, same dimensions\n",
    "np_num1 = np.array(((1, 2, 3), (4, 5, 6), (7, 8, 9)))\n",
    "np_num2 = np.full((3,3), 2)\n",
    "\n",
    "print(np_num1)\n",
    "print(\"\") # space\n",
    "print(np_num2)"
   ]
  },
  {
   "cell_type": "code",
   "execution_count": 89,
   "metadata": {},
   "outputs": [
    {
     "name": "stdout",
     "output_type": "stream",
     "text": [
      "[[ 3  4  5]\n",
      " [ 6  7  8]\n",
      " [ 9 10 11]]\n",
      "\n",
      "[[ 3  4  5]\n",
      " [ 6  7  8]\n",
      " [ 9 10 11]]\n"
     ]
    }
   ],
   "source": [
    "# probably nothing surprising here?\n",
    "\n",
    "## ADD\n",
    "np_add = np.add(np_num1, np_num2)\n",
    "print(np_add)\n",
    "print(\"\")\n",
    "\n",
    "# exactly the same\n",
    "np_add2 = np_num1 + np_num2\n",
    "print(np_add2)"
   ]
  },
  {
   "cell_type": "code",
   "execution_count": 91,
   "metadata": {},
   "outputs": [
    {
     "name": "stdout",
     "output_type": "stream",
     "text": [
      "[[-1  0  1]\n",
      " [ 2  3  4]\n",
      " [ 5  6  7]]\n",
      "\n",
      "[[-1  0  1]\n",
      " [ 2  3  4]\n",
      " [ 5  6  7]]\n"
     ]
    }
   ],
   "source": [
    "## SUBTRACT\n",
    "np_sub = np.subtract(np_num1, np_num2)\n",
    "print(np_sub)\n",
    "print(\"\")\n",
    "\n",
    "# exactly the same\n",
    "np_sub2 = np_num1 - np_num2\n",
    "print(np_sub2)"
   ]
  },
  {
   "cell_type": "code",
   "execution_count": 90,
   "metadata": {},
   "outputs": [
    {
     "name": "stdout",
     "output_type": "stream",
     "text": [
      "[[ 2  4  6]\n",
      " [ 8 10 12]\n",
      " [14 16 18]]\n",
      "\n",
      "[[ 2  4  6]\n",
      " [ 8 10 12]\n",
      " [14 16 18]]\n"
     ]
    }
   ],
   "source": [
    "## MULTIPLY\n",
    "np_mult = np.multiply(np_num1, np_num2)\n",
    "print(np_mult)\n",
    "print(\"\")\n",
    "\n",
    "# exactly the same\n",
    "np_mult2 = np_num1 * np_num2\n",
    "print(np_mult2)"
   ]
  },
  {
   "cell_type": "code",
   "execution_count": 92,
   "metadata": {},
   "outputs": [
    {
     "name": "stdout",
     "output_type": "stream",
     "text": [
      "[[0.5 1.  1.5]\n",
      " [2.  2.5 3. ]\n",
      " [3.5 4.  4.5]]\n",
      "\n",
      "[[0.5 1.  1.5]\n",
      " [2.  2.5 3. ]\n",
      " [3.5 4.  4.5]]\n"
     ]
    }
   ],
   "source": [
    "## DIVIDE\n",
    "np_div = np.divide(np_num1, np_num2)\n",
    "print(np_div)\n",
    "print(\"\")\n",
    "\n",
    "# exactly the same\n",
    "np_div2 = np_num1 / np_num2\n",
    "print(np_div2)"
   ]
  },
  {
   "cell_type": "code",
   "execution_count": 104,
   "metadata": {},
   "outputs": [
    {
     "name": "stdout",
     "output_type": "stream",
     "text": [
      "[[ 3  5]\n",
      " [ 6  8]\n",
      " [ 9 11]]\n"
     ]
    }
   ],
   "source": [
    "# this MIGHT be obvious, but it seems worth saying:\n",
    "# we can do all of our math on subsets of arrays, too\n",
    "np_num3 = np_num1[:, [0, 2]] + np_num2[:, [0, 2]]\n",
    "print(np_num3)"
   ]
  },
  {
   "cell_type": "markdown",
   "metadata": {},
   "source": [
    "# Matplotlib\n",
    "\n",
    "This is not an in-depth intro to Matplotlib. This is me showing you how to make a single kind of graph, and pointing you at the documentation if you're interested in doing more. (It is very well documented!)\n",
    "\n",
    "To be clear: you aren't stuck with line charts. There are also bar charts, scatter plots, histograms, and pie charts (ew). You can do all kinds of wild things with Matplotlib."
   ]
  },
  {
   "cell_type": "code",
   "execution_count": 130,
   "metadata": {},
   "outputs": [
    {
     "data": {
      "application/javascript": [
       "/* Put everything inside the global mpl namespace */\n",
       "window.mpl = {};\n",
       "\n",
       "\n",
       "mpl.get_websocket_type = function() {\n",
       "    if (typeof(WebSocket) !== 'undefined') {\n",
       "        return WebSocket;\n",
       "    } else if (typeof(MozWebSocket) !== 'undefined') {\n",
       "        return MozWebSocket;\n",
       "    } else {\n",
       "        alert('Your browser does not have WebSocket support.' +\n",
       "              'Please try Chrome, Safari or Firefox ≥ 6. ' +\n",
       "              'Firefox 4 and 5 are also supported but you ' +\n",
       "              'have to enable WebSockets in about:config.');\n",
       "    };\n",
       "}\n",
       "\n",
       "mpl.figure = function(figure_id, websocket, ondownload, parent_element) {\n",
       "    this.id = figure_id;\n",
       "\n",
       "    this.ws = websocket;\n",
       "\n",
       "    this.supports_binary = (this.ws.binaryType != undefined);\n",
       "\n",
       "    if (!this.supports_binary) {\n",
       "        var warnings = document.getElementById(\"mpl-warnings\");\n",
       "        if (warnings) {\n",
       "            warnings.style.display = 'block';\n",
       "            warnings.textContent = (\n",
       "                \"This browser does not support binary websocket messages. \" +\n",
       "                    \"Performance may be slow.\");\n",
       "        }\n",
       "    }\n",
       "\n",
       "    this.imageObj = new Image();\n",
       "\n",
       "    this.context = undefined;\n",
       "    this.message = undefined;\n",
       "    this.canvas = undefined;\n",
       "    this.rubberband_canvas = undefined;\n",
       "    this.rubberband_context = undefined;\n",
       "    this.format_dropdown = undefined;\n",
       "\n",
       "    this.image_mode = 'full';\n",
       "\n",
       "    this.root = $('<div/>');\n",
       "    this._root_extra_style(this.root)\n",
       "    this.root.attr('style', 'display: inline-block');\n",
       "\n",
       "    $(parent_element).append(this.root);\n",
       "\n",
       "    this._init_header(this);\n",
       "    this._init_canvas(this);\n",
       "    this._init_toolbar(this);\n",
       "\n",
       "    var fig = this;\n",
       "\n",
       "    this.waiting = false;\n",
       "\n",
       "    this.ws.onopen =  function () {\n",
       "            fig.send_message(\"supports_binary\", {value: fig.supports_binary});\n",
       "            fig.send_message(\"send_image_mode\", {});\n",
       "            if (mpl.ratio != 1) {\n",
       "                fig.send_message(\"set_dpi_ratio\", {'dpi_ratio': mpl.ratio});\n",
       "            }\n",
       "            fig.send_message(\"refresh\", {});\n",
       "        }\n",
       "\n",
       "    this.imageObj.onload = function() {\n",
       "            if (fig.image_mode == 'full') {\n",
       "                // Full images could contain transparency (where diff images\n",
       "                // almost always do), so we need to clear the canvas so that\n",
       "                // there is no ghosting.\n",
       "                fig.context.clearRect(0, 0, fig.canvas.width, fig.canvas.height);\n",
       "            }\n",
       "            fig.context.drawImage(fig.imageObj, 0, 0);\n",
       "        };\n",
       "\n",
       "    this.imageObj.onunload = function() {\n",
       "        fig.ws.close();\n",
       "    }\n",
       "\n",
       "    this.ws.onmessage = this._make_on_message_function(this);\n",
       "\n",
       "    this.ondownload = ondownload;\n",
       "}\n",
       "\n",
       "mpl.figure.prototype._init_header = function() {\n",
       "    var titlebar = $(\n",
       "        '<div class=\"ui-dialog-titlebar ui-widget-header ui-corner-all ' +\n",
       "        'ui-helper-clearfix\"/>');\n",
       "    var titletext = $(\n",
       "        '<div class=\"ui-dialog-title\" style=\"width: 100%; ' +\n",
       "        'text-align: center; padding: 3px;\"/>');\n",
       "    titlebar.append(titletext)\n",
       "    this.root.append(titlebar);\n",
       "    this.header = titletext[0];\n",
       "}\n",
       "\n",
       "\n",
       "\n",
       "mpl.figure.prototype._canvas_extra_style = function(canvas_div) {\n",
       "\n",
       "}\n",
       "\n",
       "\n",
       "mpl.figure.prototype._root_extra_style = function(canvas_div) {\n",
       "\n",
       "}\n",
       "\n",
       "mpl.figure.prototype._init_canvas = function() {\n",
       "    var fig = this;\n",
       "\n",
       "    var canvas_div = $('<div/>');\n",
       "\n",
       "    canvas_div.attr('style', 'position: relative; clear: both; outline: 0');\n",
       "\n",
       "    function canvas_keyboard_event(event) {\n",
       "        return fig.key_event(event, event['data']);\n",
       "    }\n",
       "\n",
       "    canvas_div.keydown('key_press', canvas_keyboard_event);\n",
       "    canvas_div.keyup('key_release', canvas_keyboard_event);\n",
       "    this.canvas_div = canvas_div\n",
       "    this._canvas_extra_style(canvas_div)\n",
       "    this.root.append(canvas_div);\n",
       "\n",
       "    var canvas = $('<canvas/>');\n",
       "    canvas.addClass('mpl-canvas');\n",
       "    canvas.attr('style', \"left: 0; top: 0; z-index: 0; outline: 0\")\n",
       "\n",
       "    this.canvas = canvas[0];\n",
       "    this.context = canvas[0].getContext(\"2d\");\n",
       "\n",
       "    var backingStore = this.context.backingStorePixelRatio ||\n",
       "\tthis.context.webkitBackingStorePixelRatio ||\n",
       "\tthis.context.mozBackingStorePixelRatio ||\n",
       "\tthis.context.msBackingStorePixelRatio ||\n",
       "\tthis.context.oBackingStorePixelRatio ||\n",
       "\tthis.context.backingStorePixelRatio || 1;\n",
       "\n",
       "    mpl.ratio = (window.devicePixelRatio || 1) / backingStore;\n",
       "\n",
       "    var rubberband = $('<canvas/>');\n",
       "    rubberband.attr('style', \"position: absolute; left: 0; top: 0; z-index: 1;\")\n",
       "\n",
       "    var pass_mouse_events = true;\n",
       "\n",
       "    canvas_div.resizable({\n",
       "        start: function(event, ui) {\n",
       "            pass_mouse_events = false;\n",
       "        },\n",
       "        resize: function(event, ui) {\n",
       "            fig.request_resize(ui.size.width, ui.size.height);\n",
       "        },\n",
       "        stop: function(event, ui) {\n",
       "            pass_mouse_events = true;\n",
       "            fig.request_resize(ui.size.width, ui.size.height);\n",
       "        },\n",
       "    });\n",
       "\n",
       "    function mouse_event_fn(event) {\n",
       "        if (pass_mouse_events)\n",
       "            return fig.mouse_event(event, event['data']);\n",
       "    }\n",
       "\n",
       "    rubberband.mousedown('button_press', mouse_event_fn);\n",
       "    rubberband.mouseup('button_release', mouse_event_fn);\n",
       "    // Throttle sequential mouse events to 1 every 20ms.\n",
       "    rubberband.mousemove('motion_notify', mouse_event_fn);\n",
       "\n",
       "    rubberband.mouseenter('figure_enter', mouse_event_fn);\n",
       "    rubberband.mouseleave('figure_leave', mouse_event_fn);\n",
       "\n",
       "    canvas_div.on(\"wheel\", function (event) {\n",
       "        event = event.originalEvent;\n",
       "        event['data'] = 'scroll'\n",
       "        if (event.deltaY < 0) {\n",
       "            event.step = 1;\n",
       "        } else {\n",
       "            event.step = -1;\n",
       "        }\n",
       "        mouse_event_fn(event);\n",
       "    });\n",
       "\n",
       "    canvas_div.append(canvas);\n",
       "    canvas_div.append(rubberband);\n",
       "\n",
       "    this.rubberband = rubberband;\n",
       "    this.rubberband_canvas = rubberband[0];\n",
       "    this.rubberband_context = rubberband[0].getContext(\"2d\");\n",
       "    this.rubberband_context.strokeStyle = \"#000000\";\n",
       "\n",
       "    this._resize_canvas = function(width, height) {\n",
       "        // Keep the size of the canvas, canvas container, and rubber band\n",
       "        // canvas in synch.\n",
       "        canvas_div.css('width', width)\n",
       "        canvas_div.css('height', height)\n",
       "\n",
       "        canvas.attr('width', width * mpl.ratio);\n",
       "        canvas.attr('height', height * mpl.ratio);\n",
       "        canvas.attr('style', 'width: ' + width + 'px; height: ' + height + 'px;');\n",
       "\n",
       "        rubberband.attr('width', width);\n",
       "        rubberband.attr('height', height);\n",
       "    }\n",
       "\n",
       "    // Set the figure to an initial 600x600px, this will subsequently be updated\n",
       "    // upon first draw.\n",
       "    this._resize_canvas(600, 600);\n",
       "\n",
       "    // Disable right mouse context menu.\n",
       "    $(this.rubberband_canvas).bind(\"contextmenu\",function(e){\n",
       "        return false;\n",
       "    });\n",
       "\n",
       "    function set_focus () {\n",
       "        canvas.focus();\n",
       "        canvas_div.focus();\n",
       "    }\n",
       "\n",
       "    window.setTimeout(set_focus, 100);\n",
       "}\n",
       "\n",
       "mpl.figure.prototype._init_toolbar = function() {\n",
       "    var fig = this;\n",
       "\n",
       "    var nav_element = $('<div/>')\n",
       "    nav_element.attr('style', 'width: 100%');\n",
       "    this.root.append(nav_element);\n",
       "\n",
       "    // Define a callback function for later on.\n",
       "    function toolbar_event(event) {\n",
       "        return fig.toolbar_button_onclick(event['data']);\n",
       "    }\n",
       "    function toolbar_mouse_event(event) {\n",
       "        return fig.toolbar_button_onmouseover(event['data']);\n",
       "    }\n",
       "\n",
       "    for(var toolbar_ind in mpl.toolbar_items) {\n",
       "        var name = mpl.toolbar_items[toolbar_ind][0];\n",
       "        var tooltip = mpl.toolbar_items[toolbar_ind][1];\n",
       "        var image = mpl.toolbar_items[toolbar_ind][2];\n",
       "        var method_name = mpl.toolbar_items[toolbar_ind][3];\n",
       "\n",
       "        if (!name) {\n",
       "            // put a spacer in here.\n",
       "            continue;\n",
       "        }\n",
       "        var button = $('<button/>');\n",
       "        button.addClass('ui-button ui-widget ui-state-default ui-corner-all ' +\n",
       "                        'ui-button-icon-only');\n",
       "        button.attr('role', 'button');\n",
       "        button.attr('aria-disabled', 'false');\n",
       "        button.click(method_name, toolbar_event);\n",
       "        button.mouseover(tooltip, toolbar_mouse_event);\n",
       "\n",
       "        var icon_img = $('<span/>');\n",
       "        icon_img.addClass('ui-button-icon-primary ui-icon');\n",
       "        icon_img.addClass(image);\n",
       "        icon_img.addClass('ui-corner-all');\n",
       "\n",
       "        var tooltip_span = $('<span/>');\n",
       "        tooltip_span.addClass('ui-button-text');\n",
       "        tooltip_span.html(tooltip);\n",
       "\n",
       "        button.append(icon_img);\n",
       "        button.append(tooltip_span);\n",
       "\n",
       "        nav_element.append(button);\n",
       "    }\n",
       "\n",
       "    var fmt_picker_span = $('<span/>');\n",
       "\n",
       "    var fmt_picker = $('<select/>');\n",
       "    fmt_picker.addClass('mpl-toolbar-option ui-widget ui-widget-content');\n",
       "    fmt_picker_span.append(fmt_picker);\n",
       "    nav_element.append(fmt_picker_span);\n",
       "    this.format_dropdown = fmt_picker[0];\n",
       "\n",
       "    for (var ind in mpl.extensions) {\n",
       "        var fmt = mpl.extensions[ind];\n",
       "        var option = $(\n",
       "            '<option/>', {selected: fmt === mpl.default_extension}).html(fmt);\n",
       "        fmt_picker.append(option)\n",
       "    }\n",
       "\n",
       "    // Add hover states to the ui-buttons\n",
       "    $( \".ui-button\" ).hover(\n",
       "        function() { $(this).addClass(\"ui-state-hover\");},\n",
       "        function() { $(this).removeClass(\"ui-state-hover\");}\n",
       "    );\n",
       "\n",
       "    var status_bar = $('<span class=\"mpl-message\"/>');\n",
       "    nav_element.append(status_bar);\n",
       "    this.message = status_bar[0];\n",
       "}\n",
       "\n",
       "mpl.figure.prototype.request_resize = function(x_pixels, y_pixels) {\n",
       "    // Request matplotlib to resize the figure. Matplotlib will then trigger a resize in the client,\n",
       "    // which will in turn request a refresh of the image.\n",
       "    this.send_message('resize', {'width': x_pixels, 'height': y_pixels});\n",
       "}\n",
       "\n",
       "mpl.figure.prototype.send_message = function(type, properties) {\n",
       "    properties['type'] = type;\n",
       "    properties['figure_id'] = this.id;\n",
       "    this.ws.send(JSON.stringify(properties));\n",
       "}\n",
       "\n",
       "mpl.figure.prototype.send_draw_message = function() {\n",
       "    if (!this.waiting) {\n",
       "        this.waiting = true;\n",
       "        this.ws.send(JSON.stringify({type: \"draw\", figure_id: this.id}));\n",
       "    }\n",
       "}\n",
       "\n",
       "\n",
       "mpl.figure.prototype.handle_save = function(fig, msg) {\n",
       "    var format_dropdown = fig.format_dropdown;\n",
       "    var format = format_dropdown.options[format_dropdown.selectedIndex].value;\n",
       "    fig.ondownload(fig, format);\n",
       "}\n",
       "\n",
       "\n",
       "mpl.figure.prototype.handle_resize = function(fig, msg) {\n",
       "    var size = msg['size'];\n",
       "    if (size[0] != fig.canvas.width || size[1] != fig.canvas.height) {\n",
       "        fig._resize_canvas(size[0], size[1]);\n",
       "        fig.send_message(\"refresh\", {});\n",
       "    };\n",
       "}\n",
       "\n",
       "mpl.figure.prototype.handle_rubberband = function(fig, msg) {\n",
       "    var x0 = msg['x0'] / mpl.ratio;\n",
       "    var y0 = (fig.canvas.height - msg['y0']) / mpl.ratio;\n",
       "    var x1 = msg['x1'] / mpl.ratio;\n",
       "    var y1 = (fig.canvas.height - msg['y1']) / mpl.ratio;\n",
       "    x0 = Math.floor(x0) + 0.5;\n",
       "    y0 = Math.floor(y0) + 0.5;\n",
       "    x1 = Math.floor(x1) + 0.5;\n",
       "    y1 = Math.floor(y1) + 0.5;\n",
       "    var min_x = Math.min(x0, x1);\n",
       "    var min_y = Math.min(y0, y1);\n",
       "    var width = Math.abs(x1 - x0);\n",
       "    var height = Math.abs(y1 - y0);\n",
       "\n",
       "    fig.rubberband_context.clearRect(\n",
       "        0, 0, fig.canvas.width, fig.canvas.height);\n",
       "\n",
       "    fig.rubberband_context.strokeRect(min_x, min_y, width, height);\n",
       "}\n",
       "\n",
       "mpl.figure.prototype.handle_figure_label = function(fig, msg) {\n",
       "    // Updates the figure title.\n",
       "    fig.header.textContent = msg['label'];\n",
       "}\n",
       "\n",
       "mpl.figure.prototype.handle_cursor = function(fig, msg) {\n",
       "    var cursor = msg['cursor'];\n",
       "    switch(cursor)\n",
       "    {\n",
       "    case 0:\n",
       "        cursor = 'pointer';\n",
       "        break;\n",
       "    case 1:\n",
       "        cursor = 'default';\n",
       "        break;\n",
       "    case 2:\n",
       "        cursor = 'crosshair';\n",
       "        break;\n",
       "    case 3:\n",
       "        cursor = 'move';\n",
       "        break;\n",
       "    }\n",
       "    fig.rubberband_canvas.style.cursor = cursor;\n",
       "}\n",
       "\n",
       "mpl.figure.prototype.handle_message = function(fig, msg) {\n",
       "    fig.message.textContent = msg['message'];\n",
       "}\n",
       "\n",
       "mpl.figure.prototype.handle_draw = function(fig, msg) {\n",
       "    // Request the server to send over a new figure.\n",
       "    fig.send_draw_message();\n",
       "}\n",
       "\n",
       "mpl.figure.prototype.handle_image_mode = function(fig, msg) {\n",
       "    fig.image_mode = msg['mode'];\n",
       "}\n",
       "\n",
       "mpl.figure.prototype.updated_canvas_event = function() {\n",
       "    // Called whenever the canvas gets updated.\n",
       "    this.send_message(\"ack\", {});\n",
       "}\n",
       "\n",
       "// A function to construct a web socket function for onmessage handling.\n",
       "// Called in the figure constructor.\n",
       "mpl.figure.prototype._make_on_message_function = function(fig) {\n",
       "    return function socket_on_message(evt) {\n",
       "        if (evt.data instanceof Blob) {\n",
       "            /* FIXME: We get \"Resource interpreted as Image but\n",
       "             * transferred with MIME type text/plain:\" errors on\n",
       "             * Chrome.  But how to set the MIME type?  It doesn't seem\n",
       "             * to be part of the websocket stream */\n",
       "            evt.data.type = \"image/png\";\n",
       "\n",
       "            /* Free the memory for the previous frames */\n",
       "            if (fig.imageObj.src) {\n",
       "                (window.URL || window.webkitURL).revokeObjectURL(\n",
       "                    fig.imageObj.src);\n",
       "            }\n",
       "\n",
       "            fig.imageObj.src = (window.URL || window.webkitURL).createObjectURL(\n",
       "                evt.data);\n",
       "            fig.updated_canvas_event();\n",
       "            fig.waiting = false;\n",
       "            return;\n",
       "        }\n",
       "        else if (typeof evt.data === 'string' && evt.data.slice(0, 21) == \"data:image/png;base64\") {\n",
       "            fig.imageObj.src = evt.data;\n",
       "            fig.updated_canvas_event();\n",
       "            fig.waiting = false;\n",
       "            return;\n",
       "        }\n",
       "\n",
       "        var msg = JSON.parse(evt.data);\n",
       "        var msg_type = msg['type'];\n",
       "\n",
       "        // Call the  \"handle_{type}\" callback, which takes\n",
       "        // the figure and JSON message as its only arguments.\n",
       "        try {\n",
       "            var callback = fig[\"handle_\" + msg_type];\n",
       "        } catch (e) {\n",
       "            console.log(\"No handler for the '\" + msg_type + \"' message type: \", msg);\n",
       "            return;\n",
       "        }\n",
       "\n",
       "        if (callback) {\n",
       "            try {\n",
       "                // console.log(\"Handling '\" + msg_type + \"' message: \", msg);\n",
       "                callback(fig, msg);\n",
       "            } catch (e) {\n",
       "                console.log(\"Exception inside the 'handler_\" + msg_type + \"' callback:\", e, e.stack, msg);\n",
       "            }\n",
       "        }\n",
       "    };\n",
       "}\n",
       "\n",
       "// from http://stackoverflow.com/questions/1114465/getting-mouse-location-in-canvas\n",
       "mpl.findpos = function(e) {\n",
       "    //this section is from http://www.quirksmode.org/js/events_properties.html\n",
       "    var targ;\n",
       "    if (!e)\n",
       "        e = window.event;\n",
       "    if (e.target)\n",
       "        targ = e.target;\n",
       "    else if (e.srcElement)\n",
       "        targ = e.srcElement;\n",
       "    if (targ.nodeType == 3) // defeat Safari bug\n",
       "        targ = targ.parentNode;\n",
       "\n",
       "    // jQuery normalizes the pageX and pageY\n",
       "    // pageX,Y are the mouse positions relative to the document\n",
       "    // offset() returns the position of the element relative to the document\n",
       "    var x = e.pageX - $(targ).offset().left;\n",
       "    var y = e.pageY - $(targ).offset().top;\n",
       "\n",
       "    return {\"x\": x, \"y\": y};\n",
       "};\n",
       "\n",
       "/*\n",
       " * return a copy of an object with only non-object keys\n",
       " * we need this to avoid circular references\n",
       " * http://stackoverflow.com/a/24161582/3208463\n",
       " */\n",
       "function simpleKeys (original) {\n",
       "  return Object.keys(original).reduce(function (obj, key) {\n",
       "    if (typeof original[key] !== 'object')\n",
       "        obj[key] = original[key]\n",
       "    return obj;\n",
       "  }, {});\n",
       "}\n",
       "\n",
       "mpl.figure.prototype.mouse_event = function(event, name) {\n",
       "    var canvas_pos = mpl.findpos(event)\n",
       "\n",
       "    if (name === 'button_press')\n",
       "    {\n",
       "        this.canvas.focus();\n",
       "        this.canvas_div.focus();\n",
       "    }\n",
       "\n",
       "    var x = canvas_pos.x * mpl.ratio;\n",
       "    var y = canvas_pos.y * mpl.ratio;\n",
       "\n",
       "    this.send_message(name, {x: x, y: y, button: event.button,\n",
       "                             step: event.step,\n",
       "                             guiEvent: simpleKeys(event)});\n",
       "\n",
       "    /* This prevents the web browser from automatically changing to\n",
       "     * the text insertion cursor when the button is pressed.  We want\n",
       "     * to control all of the cursor setting manually through the\n",
       "     * 'cursor' event from matplotlib */\n",
       "    event.preventDefault();\n",
       "    return false;\n",
       "}\n",
       "\n",
       "mpl.figure.prototype._key_event_extra = function(event, name) {\n",
       "    // Handle any extra behaviour associated with a key event\n",
       "}\n",
       "\n",
       "mpl.figure.prototype.key_event = function(event, name) {\n",
       "\n",
       "    // Prevent repeat events\n",
       "    if (name == 'key_press')\n",
       "    {\n",
       "        if (event.which === this._key)\n",
       "            return;\n",
       "        else\n",
       "            this._key = event.which;\n",
       "    }\n",
       "    if (name == 'key_release')\n",
       "        this._key = null;\n",
       "\n",
       "    var value = '';\n",
       "    if (event.ctrlKey && event.which != 17)\n",
       "        value += \"ctrl+\";\n",
       "    if (event.altKey && event.which != 18)\n",
       "        value += \"alt+\";\n",
       "    if (event.shiftKey && event.which != 16)\n",
       "        value += \"shift+\";\n",
       "\n",
       "    value += 'k';\n",
       "    value += event.which.toString();\n",
       "\n",
       "    this._key_event_extra(event, name);\n",
       "\n",
       "    this.send_message(name, {key: value,\n",
       "                             guiEvent: simpleKeys(event)});\n",
       "    return false;\n",
       "}\n",
       "\n",
       "mpl.figure.prototype.toolbar_button_onclick = function(name) {\n",
       "    if (name == 'download') {\n",
       "        this.handle_save(this, null);\n",
       "    } else {\n",
       "        this.send_message(\"toolbar_button\", {name: name});\n",
       "    }\n",
       "};\n",
       "\n",
       "mpl.figure.prototype.toolbar_button_onmouseover = function(tooltip) {\n",
       "    this.message.textContent = tooltip;\n",
       "};\n",
       "mpl.toolbar_items = [[\"Home\", \"Reset original view\", \"fa fa-home icon-home\", \"home\"], [\"Back\", \"Back to previous view\", \"fa fa-arrow-left icon-arrow-left\", \"back\"], [\"Forward\", \"Forward to next view\", \"fa fa-arrow-right icon-arrow-right\", \"forward\"], [\"\", \"\", \"\", \"\"], [\"Pan\", \"Pan axes with left mouse, zoom with right\", \"fa fa-arrows icon-move\", \"pan\"], [\"Zoom\", \"Zoom to rectangle\", \"fa fa-square-o icon-check-empty\", \"zoom\"], [\"\", \"\", \"\", \"\"], [\"Download\", \"Download plot\", \"fa fa-floppy-o icon-save\", \"download\"]];\n",
       "\n",
       "mpl.extensions = [\"eps\", \"jpeg\", \"pdf\", \"png\", \"ps\", \"raw\", \"svg\", \"tif\"];\n",
       "\n",
       "mpl.default_extension = \"png\";var comm_websocket_adapter = function(comm) {\n",
       "    // Create a \"websocket\"-like object which calls the given IPython comm\n",
       "    // object with the appropriate methods. Currently this is a non binary\n",
       "    // socket, so there is still some room for performance tuning.\n",
       "    var ws = {};\n",
       "\n",
       "    ws.close = function() {\n",
       "        comm.close()\n",
       "    };\n",
       "    ws.send = function(m) {\n",
       "        //console.log('sending', m);\n",
       "        comm.send(m);\n",
       "    };\n",
       "    // Register the callback with on_msg.\n",
       "    comm.on_msg(function(msg) {\n",
       "        //console.log('receiving', msg['content']['data'], msg);\n",
       "        // Pass the mpl event to the overridden (by mpl) onmessage function.\n",
       "        ws.onmessage(msg['content']['data'])\n",
       "    });\n",
       "    return ws;\n",
       "}\n",
       "\n",
       "mpl.mpl_figure_comm = function(comm, msg) {\n",
       "    // This is the function which gets called when the mpl process\n",
       "    // starts-up an IPython Comm through the \"matplotlib\" channel.\n",
       "\n",
       "    var id = msg.content.data.id;\n",
       "    // Get hold of the div created by the display call when the Comm\n",
       "    // socket was opened in Python.\n",
       "    var element = $(\"#\" + id);\n",
       "    var ws_proxy = comm_websocket_adapter(comm)\n",
       "\n",
       "    function ondownload(figure, format) {\n",
       "        window.open(figure.imageObj.src);\n",
       "    }\n",
       "\n",
       "    var fig = new mpl.figure(id, ws_proxy,\n",
       "                           ondownload,\n",
       "                           element.get(0));\n",
       "\n",
       "    // Call onopen now - mpl needs it, as it is assuming we've passed it a real\n",
       "    // web socket which is closed, not our websocket->open comm proxy.\n",
       "    ws_proxy.onopen();\n",
       "\n",
       "    fig.parent_element = element.get(0);\n",
       "    fig.cell_info = mpl.find_output_cell(\"<div id='\" + id + \"'></div>\");\n",
       "    if (!fig.cell_info) {\n",
       "        console.error(\"Failed to find cell for figure\", id, fig);\n",
       "        return;\n",
       "    }\n",
       "\n",
       "    var output_index = fig.cell_info[2]\n",
       "    var cell = fig.cell_info[0];\n",
       "\n",
       "};\n",
       "\n",
       "mpl.figure.prototype.handle_close = function(fig, msg) {\n",
       "    var width = fig.canvas.width/mpl.ratio\n",
       "    fig.root.unbind('remove')\n",
       "\n",
       "    // Update the output cell to use the data from the current canvas.\n",
       "    fig.push_to_output();\n",
       "    var dataURL = fig.canvas.toDataURL();\n",
       "    // Re-enable the keyboard manager in IPython - without this line, in FF,\n",
       "    // the notebook keyboard shortcuts fail.\n",
       "    IPython.keyboard_manager.enable()\n",
       "    $(fig.parent_element).html('<img src=\"' + dataURL + '\" width=\"' + width + '\">');\n",
       "    fig.close_ws(fig, msg);\n",
       "}\n",
       "\n",
       "mpl.figure.prototype.close_ws = function(fig, msg){\n",
       "    fig.send_message('closing', msg);\n",
       "    // fig.ws.close()\n",
       "}\n",
       "\n",
       "mpl.figure.prototype.push_to_output = function(remove_interactive) {\n",
       "    // Turn the data on the canvas into data in the output cell.\n",
       "    var width = this.canvas.width/mpl.ratio\n",
       "    var dataURL = this.canvas.toDataURL();\n",
       "    this.cell_info[1]['text/html'] = '<img src=\"' + dataURL + '\" width=\"' + width + '\">';\n",
       "}\n",
       "\n",
       "mpl.figure.prototype.updated_canvas_event = function() {\n",
       "    // Tell IPython that the notebook contents must change.\n",
       "    IPython.notebook.set_dirty(true);\n",
       "    this.send_message(\"ack\", {});\n",
       "    var fig = this;\n",
       "    // Wait a second, then push the new image to the DOM so\n",
       "    // that it is saved nicely (might be nice to debounce this).\n",
       "    setTimeout(function () { fig.push_to_output() }, 1000);\n",
       "}\n",
       "\n",
       "mpl.figure.prototype._init_toolbar = function() {\n",
       "    var fig = this;\n",
       "\n",
       "    var nav_element = $('<div/>')\n",
       "    nav_element.attr('style', 'width: 100%');\n",
       "    this.root.append(nav_element);\n",
       "\n",
       "    // Define a callback function for later on.\n",
       "    function toolbar_event(event) {\n",
       "        return fig.toolbar_button_onclick(event['data']);\n",
       "    }\n",
       "    function toolbar_mouse_event(event) {\n",
       "        return fig.toolbar_button_onmouseover(event['data']);\n",
       "    }\n",
       "\n",
       "    for(var toolbar_ind in mpl.toolbar_items){\n",
       "        var name = mpl.toolbar_items[toolbar_ind][0];\n",
       "        var tooltip = mpl.toolbar_items[toolbar_ind][1];\n",
       "        var image = mpl.toolbar_items[toolbar_ind][2];\n",
       "        var method_name = mpl.toolbar_items[toolbar_ind][3];\n",
       "\n",
       "        if (!name) { continue; };\n",
       "\n",
       "        var button = $('<button class=\"btn btn-default\" href=\"#\" title=\"' + name + '\"><i class=\"fa ' + image + ' fa-lg\"></i></button>');\n",
       "        button.click(method_name, toolbar_event);\n",
       "        button.mouseover(tooltip, toolbar_mouse_event);\n",
       "        nav_element.append(button);\n",
       "    }\n",
       "\n",
       "    // Add the status bar.\n",
       "    var status_bar = $('<span class=\"mpl-message\" style=\"text-align:right; float: right;\"/>');\n",
       "    nav_element.append(status_bar);\n",
       "    this.message = status_bar[0];\n",
       "\n",
       "    // Add the close button to the window.\n",
       "    var buttongrp = $('<div class=\"btn-group inline pull-right\"></div>');\n",
       "    var button = $('<button class=\"btn btn-mini btn-primary\" href=\"#\" title=\"Stop Interaction\"><i class=\"fa fa-power-off icon-remove icon-large\"></i></button>');\n",
       "    button.click(function (evt) { fig.handle_close(fig, {}); } );\n",
       "    button.mouseover('Stop Interaction', toolbar_mouse_event);\n",
       "    buttongrp.append(button);\n",
       "    var titlebar = this.root.find($('.ui-dialog-titlebar'));\n",
       "    titlebar.prepend(buttongrp);\n",
       "}\n",
       "\n",
       "mpl.figure.prototype._root_extra_style = function(el){\n",
       "    var fig = this\n",
       "    el.on(\"remove\", function(){\n",
       "\tfig.close_ws(fig, {});\n",
       "    });\n",
       "}\n",
       "\n",
       "mpl.figure.prototype._canvas_extra_style = function(el){\n",
       "    // this is important to make the div 'focusable\n",
       "    el.attr('tabindex', 0)\n",
       "    // reach out to IPython and tell the keyboard manager to turn it's self\n",
       "    // off when our div gets focus\n",
       "\n",
       "    // location in version 3\n",
       "    if (IPython.notebook.keyboard_manager) {\n",
       "        IPython.notebook.keyboard_manager.register_events(el);\n",
       "    }\n",
       "    else {\n",
       "        // location in version 2\n",
       "        IPython.keyboard_manager.register_events(el);\n",
       "    }\n",
       "\n",
       "}\n",
       "\n",
       "mpl.figure.prototype._key_event_extra = function(event, name) {\n",
       "    var manager = IPython.notebook.keyboard_manager;\n",
       "    if (!manager)\n",
       "        manager = IPython.keyboard_manager;\n",
       "\n",
       "    // Check for shift+enter\n",
       "    if (event.shiftKey && event.which == 13) {\n",
       "        this.canvas_div.blur();\n",
       "        event.shiftKey = false;\n",
       "        // Send a \"J\" for go to next cell\n",
       "        event.which = 74;\n",
       "        event.keyCode = 74;\n",
       "        manager.command_mode();\n",
       "        manager.handle_keydown(event);\n",
       "    }\n",
       "}\n",
       "\n",
       "mpl.figure.prototype.handle_save = function(fig, msg) {\n",
       "    fig.ondownload(fig, null);\n",
       "}\n",
       "\n",
       "\n",
       "mpl.find_output_cell = function(html_output) {\n",
       "    // Return the cell and output element which can be found *uniquely* in the notebook.\n",
       "    // Note - this is a bit hacky, but it is done because the \"notebook_saving.Notebook\"\n",
       "    // IPython event is triggered only after the cells have been serialised, which for\n",
       "    // our purposes (turning an active figure into a static one), is too late.\n",
       "    var cells = IPython.notebook.get_cells();\n",
       "    var ncells = cells.length;\n",
       "    for (var i=0; i<ncells; i++) {\n",
       "        var cell = cells[i];\n",
       "        if (cell.cell_type === 'code'){\n",
       "            for (var j=0; j<cell.output_area.outputs.length; j++) {\n",
       "                var data = cell.output_area.outputs[j];\n",
       "                if (data.data) {\n",
       "                    // IPython >= 3 moved mimebundle to data attribute of output\n",
       "                    data = data.data;\n",
       "                }\n",
       "                if (data['text/html'] == html_output) {\n",
       "                    return [cell, data, j];\n",
       "                }\n",
       "            }\n",
       "        }\n",
       "    }\n",
       "}\n",
       "\n",
       "// Register the function which deals with the matplotlib target/channel.\n",
       "// The kernel may be null if the page has been refreshed.\n",
       "if (IPython.notebook.kernel != null) {\n",
       "    IPython.notebook.kernel.comm_manager.register_target('matplotlib', mpl.mpl_figure_comm);\n",
       "}\n"
      ],
      "text/plain": [
       "<IPython.core.display.Javascript object>"
      ]
     },
     "metadata": {},
     "output_type": "display_data"
    },
    {
     "data": {
      "text/html": [
       "<img src=\"data:image/png;base64,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\" width=\"640\">"
      ],
      "text/plain": [
       "<IPython.core.display.HTML object>"
      ]
     },
     "metadata": {},
     "output_type": "display_data"
    }
   ],
   "source": [
    "# lets us show matplotlib plots inline\n",
    "%matplotlib notebook\n",
    "# getting just the part we need and giving it a shorter name\n",
    "from matplotlib import pyplot as plt\n",
    "\n",
    "# telling matplotlib we're going to start a graph\n",
    "plt.figure()\n",
    "# it'll plot each row as a separate series, interestingly\n",
    "plt.plot(np_mult, linestyle=\"--\", color=\"#AA00AA\", marker='s')\n",
    "# this is more fun:\n",
    "# plt.plot(np_mult[0], linestyle=\"dashed\", color=\"#990033\", marker='o')\n",
    "# plt.plot(np_mult[1], linestyle=\"solid\", color=\"#AA00AA\", marker='s')\n",
    "# plt.plot(np_mult[2], linestyle=\"dotted\", color=\"#1100AA\", marker='*')\n",
    "# feed axis a list to set ranges:\n",
    "# [x_start, x_end, y_start, y_end]\n",
    "plt.axis([0, 2.5, 0, 20])\n",
    "# put nice labels on\n",
    "plt.xlabel(\"our x axis\")\n",
    "plt.ylabel(\"our y axis\")\n",
    "plt.title(\"A very linear graph\")\n",
    "# actually makes the graph show up\n",
    "plt.show()\n",
    "\n",
    "# Start here with the documentation: \n",
    "# https://matplotlib.org/3.1.0/tutorials/introductory/pyplot.html#sphx-glr-tutorials-introductory-pyplot-py\n"
   ]
  },
  {
   "cell_type": "code",
   "execution_count": null,
   "metadata": {},
   "outputs": [],
   "source": []
  }
 ],
 "metadata": {
  "kernelspec": {
   "display_name": "Python 3",
   "language": "python",
   "name": "python3"
  },
  "language_info": {
   "codemirror_mode": {
    "name": "ipython",
    "version": 3
   },
   "file_extension": ".py",
   "mimetype": "text/x-python",
   "name": "python",
   "nbconvert_exporter": "python",
   "pygments_lexer": "ipython3",
   "version": "3.7.3"
  }
 },
 "nbformat": 4,
 "nbformat_minor": 2
}

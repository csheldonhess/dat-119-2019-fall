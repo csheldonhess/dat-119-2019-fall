{
 "cells": [
  {
   "cell_type": "markdown",
   "metadata": {},
   "source": [
    "# A little more about looping through lists\n",
    "\n",
    "I want you to understand an unpacking loop. That's an important concept and a Pythonic way of handling things.\n",
    "\n",
    "I also want you to understand the subtleties of when it's the right choice and when it, maybe, is not."
   ]
  },
  {
   "cell_type": "code",
   "execution_count": null,
   "metadata": {},
   "outputs": [],
   "source": [
    "# set up our list\n",
    "my_word_list = [\"oak\", \"pine\", \"maple\", \"rowan\", \"cedar\", \"walnut\", \"sycamore\"]\n",
    "\n",
    "# loop through the list (detailed description below) and print\n",
    "for word in my_word_list:\n",
    "    print(word, end = \" \")"
   ]
  },
  {
   "cell_type": "markdown",
   "metadata": {},
   "source": [
    "Let's talk about what happens in that loop. \n",
    "\n",
    "On your first cycle through the loop, the variable `word` gets the string \"oak\" written into it. Anything you do inside the loop, on that cycle through, when you use the variable `word`, it fills in with the string \"oak\" \n",
    "\n",
    "All you do is print, and then you go back up to the top of the loop.\n",
    "\n",
    "Now it is your second cycle through the loop. `word` gets overwritten with the string \"pine\" which is printed.\n",
    "\n",
    "On your third cycle through the loop, `word` gets overwritten with the string \"maple\"\n",
    "\n",
    "And so on.\n",
    "\n",
    "We use unpacking loops a lot, in various places in Python. The one and only place where it's going to work badly for you is _when you need to change items inside the list._ See this example:"
   ]
  },
  {
   "cell_type": "code",
   "execution_count": 15,
   "metadata": {},
   "outputs": [
    {
     "name": "stdout",
     "output_type": "stream",
     "text": [
      "oaks pines maples rowans cedars walnuts sycamores "
     ]
    }
   ],
   "source": [
    "# reset the list\n",
    "my_word_list = [\"oak\", \"pine\", \"maple\", \"rowan\", \"cedar\", \"walnut\", \"sycamore\"]\n",
    "\n",
    "# loop through the list and ... pluralize?\n",
    "for word in my_word_list:\n",
    "    word = word + \"s\"\n",
    "    print(word, end = \" \")"
   ]
  },
  {
   "cell_type": "markdown",
   "metadata": {},
   "source": [
    "OK, but..."
   ]
  },
  {
   "cell_type": "code",
   "execution_count": 16,
   "metadata": {},
   "outputs": [
    {
     "name": "stdout",
     "output_type": "stream",
     "text": [
      "oak pine maple rowan cedar walnut sycamore "
     ]
    }
   ],
   "source": [
    "# loop through the list and print each item\n",
    "for word in my_word_list:\n",
    "    print(word, end = \" \")"
   ]
  },
  {
   "cell_type": "markdown",
   "metadata": {},
   "source": [
    "Because we _unpacked_ each list item into the temporary variable `word`, the changes we made inside the loop only affected that temporary variable, not our list itself.\n",
    "\n",
    "If we want to change the items of the list, we have two options:\n",
    "\n",
    "     1) Build another list.\n",
    "     2) Access each list item with its index and change it directly."
   ]
  },
  {
   "cell_type": "code",
   "execution_count": 17,
   "metadata": {},
   "outputs": [
    {
     "name": "stdout",
     "output_type": "stream",
     "text": [
      "oaks pines maples rowans cedars walnuts sycamores "
     ]
    }
   ],
   "source": [
    "#option 1\n",
    "# reset our list (or remind ourselves what's in it, really)\n",
    "my_word_list = [\"oak\", \"pine\", \"maple\", \"rowan\", \"cedar\", \"walnut\", \"sycamore\"]\n",
    "# set up an empty list\n",
    "my_plural_list = []\n",
    "\n",
    "# loop through our first list, make each string plural,\n",
    "# and append to the new list\n",
    "for word in my_word_list:\n",
    "    word = word + \"s\"\n",
    "    my_plural_list.append(word)\n",
    "\n",
    "# loop through the new list and print each item\n",
    "for plural in my_plural_list:\n",
    "    print(plural, end = \" \")"
   ]
  },
  {
   "cell_type": "code",
   "execution_count": 18,
   "metadata": {},
   "outputs": [
    {
     "name": "stdout",
     "output_type": "stream",
     "text": [
      "oaks pines maples rowans cedars walnuts sycamores "
     ]
    }
   ],
   "source": [
    "# option 2\n",
    "# reset our list \n",
    "my_word_list = [\"oak\", \"pine\", \"maple\", \"rowan\", \"cedar\", \"walnut\", \"sycamore\"]\n",
    "\n",
    "# loop through our list by index, instead of with unpacking\n",
    "for index in range(len(my_word_list)):\n",
    "    # add the \"s\" to each word individually\n",
    "    my_word_list[index] = my_word_list[index] + \"s\"\n",
    "    \n",
    "# pretty-print\n",
    "for word in my_word_list:\n",
    "    print(word, end = \" \")"
   ]
  },
  {
   "cell_type": "markdown",
   "metadata": {},
   "source": [
    "Now, you might be tempted to say \"We don't have to make a new list. We have `.remove()` and `.append()`!\" I applaud you for thinking of that, but unfortunately, it isn't going to work. **You cannot add and remove items from an iterable as you iterate over it.** Weird stuff happens. See:"
   ]
  },
  {
   "cell_type": "code",
   "execution_count": 19,
   "metadata": {},
   "outputs": [
    {
     "name": "stdout",
     "output_type": "stream",
     "text": [
      "pine rowan walnut oaks cedars mapless sycamoresss "
     ]
    }
   ],
   "source": [
    "# reset our list \n",
    "my_word_list = [\"oak\", \"pine\", \"maple\", \"rowan\", \"cedar\", \"walnut\", \"sycamore\"]\n",
    "\n",
    "# remove the list item by value\n",
    "# append the value plus an \"s\"\n",
    "for item in my_word_list:\n",
    "    my_word_list.remove(item)\n",
    "    my_word_list.append(item + \"s\")\n",
    "    \n",
    "# pretty-print    \n",
    "for word in my_word_list:\n",
    "    print(word, end = \" \")"
   ]
  },
  {
   "cell_type": "code",
   "execution_count": null,
   "metadata": {},
   "outputs": [],
   "source": []
  }
 ],
 "metadata": {
  "kernelspec": {
   "display_name": "Python 3",
   "language": "python",
   "name": "python3"
  },
  "language_info": {
   "codemirror_mode": {
    "name": "ipython",
    "version": 3
   },
   "file_extension": ".py",
   "mimetype": "text/x-python",
   "name": "python",
   "nbconvert_exporter": "python",
   "pygments_lexer": "ipython3",
   "version": "3.7.9"
  }
 },
 "nbformat": 4,
 "nbformat_minor": 4
}

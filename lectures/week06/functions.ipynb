{
 "cells": [
  {
   "cell_type": "markdown",
   "metadata": {
    "collapsed": true
   },
   "source": [
    "# Functions"
   ]
  },
  {
   "cell_type": "markdown",
   "metadata": {},
   "source": [
    "We have looked at several different methods of affecting our programs' _control flow_, including conditionals (`if`/`elif`/`else`) and repetition structures (`for`/`while`). Functions represent our third control flow manipulation mechanism, giving us the power to jump from place to place in our program and to repeat code blocks with even more finesse than loops allowed.\n",
    "\n",
    "Let's start with some vocabulary.  We'll briefly introduce these, but just remember that these won't make a lot of sense if they aren't being used in context.\n",
    "\n",
    "* __define a function__:  this is where you define the name, parameters, and code for your functions.  You do this with your `def` block.  E.g. `def name():`\n",
    "* __call a function__:  this is when you actually call the function to execute, and you do this via `name()` somewhere in your code\n",
    "* __parameters/arguments__:  these are the values you want to give the function when you call it, you can have 0 parameters/arguments (technically, \"parameters\" are what you create when you define the function, and \"arguments\" are what you use when you call it, but only really frustrating people will ever give you trouble for using the terms interchangeably)\n",
    "* __'passing' values__: this is how you give the function the parameters it needs to give you values back; passing means that the value is handed off in the system such that it can be saved and processed.  This is different from printing values, which just spits the value out to the console and you can capture and save that value.\n",
    "* __`return`__: this is how you pass a value out of a function\n"
   ]
  },
  {
   "cell_type": "markdown",
   "metadata": {},
   "source": [
    "Functions capture and host a select chunk of code that can be repeatedly called.  These are widely used to help keep the flow of longer programs clear, because you can modularize the processing elsewhere.  There are also modules with specialized functions that we import and use for specific tasks as we need them.  \n",
    "\n",
    "So, a function is an element you can add into your program to make the structure of the program **more organized** or **cleaner to understand**, and less something that is _necessary_ to help solve a problem.\n",
    "\n",
    "Functions can theoretically contain any piece of code, which means that people use them in a wide variety of styles and purposes.  There are books and many opinions on best practices for how to craft and use functions, so there's a lot of room for creativity.  This means that the structure of defining a function won't dictate to you how it should be used, so a lot of the work is your responsibility to keep yourself in line.\n",
    "\n",
    "When starting out with functions, think about elements that you might want to repeat over and over.  You can put all that code into a function, and then you just have to call the function.\n",
    "\n",
    "You might also want to use a function when your code is getting very long and you are having a hard time following what is going on in your program.  This is particularly useful when you have many levels of granularity and thus your program is starting to have many levels of indents.  For example:\n",
    "\n",
    "```\n",
    "for file in files:\n",
    "    for record in file:\n",
    "        for line in record:\n",
    "            for word in line:\n",
    "                ...\n",
    "```\n",
    "\n",
    "This is getting pretty unreadable even with no code under any of these things.  Imagine this code block, but with many lines of code doing processing under each.  You'll have a hard time understanding which `for` loop each piece of code belongs to.\n",
    "\n",
    "In this kind of case, we can first try to snip out the longest chunk of processing code and put that into a function.  You could also consider making each of these a separate function, processing each level of granularity.\n",
    "\n",
    "Example:\n",
    "\n",
    "```\n",
    "for file in files:\n",
    "    records = get_records(file)\n",
    "    for record in records:\n",
    "        data = process_record(record)\n",
    "```\n",
    "\n",
    "This is still very abstract, but imagine that all the processing for lines and words was sent off to live in the `process_record` function.  In this case, all the processing work has been sent out to `get_records` and `process_record`, so this might be all the code there is in the main processing section of our program.  This can make the control flow easier to understand because all the processing and data manipulation elements have been isolated. \n",
    "\n",
    "There are many nuanced pieces to understanding functions, so it is best to start with small examples where we can explore each piece independently."
   ]
  },
  {
   "cell_type": "markdown",
   "metadata": {},
   "source": [
    "# The life of a function\n",
    "\n",
    "This is a little life cycle of how a function will appear in your code.\n",
    "\n",
    "A function will have three phases in your code.  This doesn't mean that these phases are traversed in order and never revisited, but this is how your code will be structured.\n",
    "\n",
    "1. _Thinking_ phase (for the humans)\n",
    "    * This is another 'hands off the keyboard' phase where you sit and think through everything about the function. You need to think about the purpose of the function, names, inputs, outputs, and intended actions.<br><br>\n",
    "2. _Defining_ phase\n",
    "    * This is where the function is defined in your code (how exactly we do that is the next section).  Functions are usually defined in the beginning of your script, although this isn't required.  You're going to write code according to the specifications that you determined in phase 1.  Maybe there will be more questions you can't ask until you start the coding process, but the larger questions need to be answered in phase 1, before getting here.\n",
    "    * Once a function is defined, Python justs knows what's there. **If all you've done is define a function, none of the code inside of it has been executed yet.**  \n",
    "    * This definition must happen **before** you call the function. (Because I do not like to lie to you, I'll admit: there are exceptions which are outside of the scope of this lesson, and you do not need to worry about them.) <br><br>\n",
    "3.  _Calling_ phase\n",
    "    * Now that Python has learned about the function, you can make it actually execute the code. You do this by calling the function. \n",
    "    \n",
    "There are entire books around how to format and design functions.  I'm going to give you some clear starter directions that will serve you well for this class, but be prepared as you keep going in Python that you'll see some other traditions.  There are many potentially cool things you can do with functions, but it's best to start off simple.  Then we can explore extra goodies."
   ]
  },
  {
   "cell_type": "markdown",
   "metadata": {},
   "source": [
    "# Function call anatomy\n",
    "\n",
    "We've already been using functions -- hopefully, we're all pretty comfortable with `input()` and `print()`, and we're getting there with `len()` and `range()`. We know that these functions exist because we've been using them, but we've never actually seen them defined. They are built into Python's standard library and have already been implemented for us by the creators of the Python language.\n",
    "\n",
    "Remember that when we call functions, we do so by stating the name of the function, followed by `()`, and then we sometimes need to place parameters inside the `()` to give it something to act on.\n",
    "\n",
    "So the anatomy of a function call is:\n",
    "\n",
    "``` python\n",
    "function_name(arguments)\n",
    "```\n",
    "\n",
    "There may be multiple arguments separated by commas, just one, or no arguments at all.  \n",
    "\n",
    "The functions that we'll be doing next are our own home-grown ones.  We decide what we want the functions to do, what their name is, the parameters, and what they return back to us."
   ]
  },
  {
   "cell_type": "code",
   "execution_count": null,
   "metadata": {},
   "outputs": [],
   "source": [
    "# some function calls we've seen before\n",
    "\n",
    "# max() is a function; it returns a value\n",
    "# we can assign that value to a variable\n",
    "the_biggest = max(2, 4, 8, 3.14, 42, 5)\n",
    "\n",
    "# print() is also a function\n",
    "print(the_biggest)"
   ]
  },
  {
   "cell_type": "markdown",
   "metadata": {},
   "source": [
    "# The function definition anatomy\n",
    "\n",
    "A quick skeleton:\n",
    "\n",
    "``` python\n",
    "def function_name(parameter1, parameter2): # define\n",
    "    result = parameter1 + parameter2 # do stuff; what you do here will vary\n",
    "    return result # return only one thing\n",
    "    \n",
    "hw_result = functionname(\"hello\", \"world\") # call the function\n",
    "print(hw_result) \n",
    "```\n",
    "\n",
    "There are the excruciatingly detailed steps to creating a function:\n",
    "\n",
    "1. **Design phase** (remember that these are thinking tasks here, so you can answer phase 1 items in your own natural language)\n",
    "    1. what do you want to name the function?\n",
    "        * follow normal variable naming protocols\n",
    "        * consider maybe using verbs (action words) for your function names\n",
    "    2. what should the function take as input, if anything?\n",
    "        * Inputs (parameters) are optional, but you could have one or many coming in.  There's other nuance here, but we're going to start with the most generic form.\n",
    "    3. what does the function need to do?  (this answer may be very abstract when starting out)\n",
    "        * This is your 'do stuff' step.\n",
    "    4. what should the function return? or: what should the function give back to you\n",
    "        * While you can choose to not return something, we won't usually be doing that.\n",
    "            - If you don't return something, your function probably has some other kind of **side effect** (fancy CS term for \"something happened, but it wasn't a return value\"), like changing a global variable (no, _don't do this_) or printing something to the console.\n",
    "        * You must pick one and only one object to return. I know the book talked about returning multiple things, but we'll generally be sticking to returning a single string or a number or a Boolean for the time being.\n",
    "2. **Defining phase** (remember that this phase only teaches Python about your function.  None of the code in the body of the function has actually been executed after this phase).\n",
    "    1. Add the `def` block line in, providing the function name you chose.\n",
    "        * So you'll have `def my_function():` thus far\n",
    "    2. Add the parameter variables into the `()` of the def block\n",
    "        * Give these sensible names that you'll remember later, do not just use x and y.\n",
    "        * You will provide these in the order that they should be provided when calling the function, with the variable names separated by commas.  Leave the `()` empty if you aren't requiring that the function take any input.\n",
    "        * So you'll have `def my_function(thing1, thing2):` at this point\n",
    "    3. Inside the function definition block (so indented under the `def` line), add your do stuff items.\n",
    "        * So you'll have \n",
    "        ```python \n",
    "        def my_function(thing1, thing2):\n",
    "            some_local_variable = some operation involving thing1 + thing2, probably\n",
    "        ```\n",
    "    4. Add your return statement (probably)\n",
    "        * this is a separate step because it will always come last in your function.\n",
    "        * it should always come last because your function execution will immediately stop as soon as Python hits a `return` statement.\n",
    "        * `return` is a keyword and not a function, so there aren't any `()`.  Provide the single object that you want to return after the keyword.  Do not actually add multiple items after this separated by commas; it wasn't nice of the book to show you that right now.   \n",
    "        * So you'll have \n",
    "        ```python \n",
    "        def my_function(thing1, thing2):\n",
    "            some_local_variable = some operation involving thing1 + thing2, probably\n",
    "            return some_local_variable # see? no ()!\n",
    "        ```\n",
    "     5. **Your function is not finished unless there is a comment** saying what it does and, ideally, describing what its inputs (parameters) and outputs (return value or side effects) should be.\n",
    "3. **Calling phase** (now is the time to make the code actually work.  When you call the function you are finally asking Python to execute the code now).\n",
    "    1. Somewhere later in your code, you'll call the function with the function's name and `()`.  You'll add this inside `main()` (more on that in a bit), and not inside your function definition. \n",
    "    2. Provide the arguments in the `()` according to how you defined it.  So if you said `def student(name, age):`, then you must provide those values in that order, a name _then_ an age. \n",
    "    3.  Choose where you want the returned results to go. Right now, you essentially have two choices:  print it or save it to a variable.  I suggest saving it to a variable, that way you have the value to mess with later.\n",
    "        * So you'll have \n",
    "            ```python \n",
    "            def my_function(thing1, thing2):\n",
    "                some_local_variable = some operation involving thing1 + thing2, probably\n",
    "                return some_local_variable\n",
    "                \n",
    "            my_result = my_function(\"fizzy\", \"pop\")\n",
    "            print(my_result)\n",
    "            \n",
    "            # or, if you prefer:\n",
    "            # print(my_function(\"fizzy\", \"pop\"))\n",
    "            ```\n",
    "\n",
    "\n",
    "We're going to tackle these one at a time with small examples."
   ]
  },
  {
   "cell_type": "markdown",
   "metadata": {},
   "source": [
    "# What should we write?\n",
    "\n",
    "So now you want to make a function.  Here are some brief steps to making that happen.\n",
    "\n",
    "1. After the thinking phase, **use some code comments to describe what you want to do**.  Answer what the name is going to be, what it will do (using your own words), and describe in detail or give an example of the output.\n",
    "2. Decide where you should define your function.  Function definitions generally go in the top of your code, just after your import statements (more on importing in a moment).  You may eventually end up with a chunk of your script that has many functions within it.  For now, **put your function definitions just after your import statements.**  If you have multiple, the order doesn't really matter at this point. Scoot your code comments from step one up here, too.\n",
    "3.  Start your definition block. (see notes below on what this looks like).\n",
    "    * Give it the name that you chose in your thinking phase.\n",
    "    * For now, set this to accept one parameter, and call it test.\n",
    "4.  In the first round through, I don't want you to worry about doing anything cool in your function.\n",
    "    * So in the block of your function, the only thing that I want you to have here is `return test`\n",
    "    * What we're doing here is strictly testing the input/output of your function.  Sort of the equivalent of \"Can I get the water to run through the sink?\" Only once you've established that, yes, the water will come in from the faucet and leave through the drain, can you start thinking about washing dishes.\n",
    "\n",
    "    * At this point your function should look only like this:\n",
    "\n",
    "    ``` python\n",
    "    def the_name_you_want(test):\n",
    "        return test\n",
    "    ```\n",
    "    Seriously, that's it.\n",
    "5. Add your function call where you need to use it.\n",
    "    * Pass in a test input or just a string.\n",
    "    * Put your function call into a `print()` statement so you can see the output.\n",
    "    * So you should have added something like:\n",
    "    \n",
    "    ``` python\n",
    "    print(the_name_you_want(\"just testing\"))\n",
    "    ```\n",
    "6. Run your code, checking to see that what you've put in the input is coming out and there aren't any errors coming up.\n",
    "7. Now that you've proved that you can send data away and get it back, start actually writing the content of your function.\n",
    "    * redo the input parameters, removing `test` and adding what you really need.\n",
    "    * change the `return` expression to something real within the function.\n",
    "8. As you develop you function's code, test along the way.\n",
    "\n",
    "This system creates a two-phased development process.  The first phase is simply hooking the function into the code and checking that the input/output is working correctly.  This can be a the hardest thing to get right when you are learning functions, so isolating it from the actual problem to solve can help keep your mind on track.  \n",
    "\n",
    "Only once you've gotten all the plumbing sorted out should you turn your attention to whatever the code should be within your function.\n",
    "\n",
    "# Let's work through an example\n",
    "We're going to explore each of these elements one at a time.  Don't be afraid to use the steps/checklist.\n",
    "\n",
    "We're going to write a madlib function.  Let's follow the steps.\n",
    "\n",
    "# Design\n",
    "\n",
    "1. What is the name? \n",
    "    * madlib\n",
    "2.  What should it take as input?\n",
    "    * we need two things:  a singular and plural version of the same noun\n",
    "3. What does it need to do?\n",
    "    * craft the madlib using the words provided.\n",
    "4. What should the function return?\n",
    "    * the final string of our fully formed madlib.\n",
    "   \n",
    "\n",
    "# Define\n",
    "\n",
    "Let's use the information we determined to fill in our function definition.\n",
    "\n",
    "## 1. def block\n",
    "\n",
    "Python in general doesn't care about, nor is it aware of, the content of your function names.  The usual restrictions of variable names apply, but everything else is up to personal style choice.  Like variable names, remember that calling something `letter` doesn't mean that Python knows anything about letters or the content.  These names are for human consumption.\n",
    "\n",
    "The formal Python style guidelines say this about how to format function names:\n",
    "\n",
    "```\n",
    "Function names should be lowercase, with words separated by underscores as necessary to improve readability.\n",
    "\n",
    "mixedCase is allowed only in contexts where that's already the prevailing style (e.g. threading.py), to retain backwards compatibility.\n",
    "```\n",
    "From PEP8: https://www.python.org/dev/peps/pep-0008/#function-names\n",
    "\n",
    "So the format should be lowercase, but the content is more up to you.  As with other variables, clarity is the most important.  You will need to type them in, so it needs to be of a reasonable length. Usually functions do something, so I tend to use verbs in my function names.\n",
    "\n",
    "This is a short and silly function we can use to explore the syntax.\n",
    "\n",
    "We're also just going to put a `print` statement in there to make it syntactically valid.  We also know that we're going to add parameters, but let's just get it working first."
   ]
  },
  {
   "cell_type": "code",
   "execution_count": null,
   "metadata": {},
   "outputs": [],
   "source": [
    "# our function definition\n",
    "def madlib(test):\n",
    "    return test\n",
    "\n",
    "# our function call\n",
    "print(madlib(\"hello, just testing\"))"
   ]
  },
  {
   "cell_type": "markdown",
   "metadata": {},
   "source": [
    "Things to note:\n",
    "\n",
    "* this was opened with a `def` block\n",
    "* the `()` are absolutely required, even if there are no parameters to pass\n",
    "* the code you want to run in the function is indented under the `def` opening line\n",
    "\n",
    "**Common problem!!!**  Remember that we need to call our function to actually make it run.  Again, we just want to see it working.\n",
    "\n",
    "Let's see what happens if we forget it:"
   ]
  },
  {
   "cell_type": "code",
   "execution_count": null,
   "metadata": {},
   "outputs": [],
   "source": [
    "def madlib(test):\n",
    "    return test"
   ]
  },
  {
   "cell_type": "markdown",
   "metadata": {},
   "source": [
    "This has executed, but nothing has happened.  The code in the function has been 'learned' by Python, but not actually executed.\n",
    "\n",
    "**Common problem!!**\n",
    "Let's see what happens if we run this, but forget that `print` statement."
   ]
  },
  {
   "cell_type": "code",
   "execution_count": null,
   "metadata": {},
   "outputs": [],
   "source": [
    "def madlib(test):\n",
    "    return test\n",
    "\n",
    "madlib(\"hello, just testing\")"
   ]
  },
  {
   "cell_type": "markdown",
   "metadata": {},
   "source": [
    "OK, in a Jupyter notebook, we still seem to get output, but if we put this into Spyder, not so much.\n",
    "\n",
    "`return` != `print()`"
   ]
  },
  {
   "cell_type": "code",
   "execution_count": null,
   "metadata": {},
   "outputs": [],
   "source": [
    "# just repeating the properly-structured test, here...\n",
    "\n",
    "def madlib(test):\n",
    "    return test\n",
    "\n",
    "print(madlib(\"hello, just testing\"))"
   ]
  },
  {
   "cell_type": "markdown",
   "metadata": {},
   "source": [
    "Once you have the plumbing phase sorted out, now you can add juicy things.\n",
    "\n",
    "When you are approaching this phase, don't forget that good variable names are so important for understanding what's going on with your code.\n",
    "\n",
    "You should know exactly what you want to send your function, and put that in the variable name.\n",
    "\n",
    "## 2. add parameters\n",
    "\n",
    "Recall our definitions:\n",
    "\n",
    "* pass a value: we're going to tell our function that it will take a value in \n",
    "\n",
    "Parameters are the heart of the power of functions.  They allow us not just to make repeatable code, but they allow us to have that code operate on arbitary values.  We can do a little madlib here.\n",
    "\n",
    "Remember our definition?  We want to take in a noun, but need it in a singular and plural form.  Let's call these `singular` and `plural`.  I'll add them into the parameter area and try running it.\n",
    "\n",
    "**Common problem!!!** You're getting an error about missing positional arguments."
   ]
  },
  {
   "cell_type": "code",
   "execution_count": null,
   "metadata": {},
   "outputs": [],
   "source": [
    "def madlib(singular, plural):\n",
    "    return singular\n",
    "\n",
    "print(madlib())"
   ]
  },
  {
   "cell_type": "markdown",
   "metadata": {},
   "source": [
    "See that error?  What's happened here is that we've defined our function as requiring two inputs, but then didn't provide any when we called it."
   ]
  },
  {
   "cell_type": "code",
   "execution_count": null,
   "metadata": {},
   "outputs": [],
   "source": [
    "def madlib(singular, plural):\n",
    "    return singular\n",
    "\n",
    "print(madlib(\"lizard\", \"lizards\"))"
   ]
  },
  {
   "cell_type": "markdown",
   "metadata": {},
   "source": [
    "Well, now it works but it's still printing out what we put in.  Now is the time to do stuff!\n",
    "\n",
    "## 3. Do stuff!!!\n",
    "\n",
    "The first thing to do here is just print the parameters.  "
   ]
  },
  {
   "cell_type": "code",
   "execution_count": null,
   "metadata": {},
   "outputs": [],
   "source": [
    "def madlib(singular, plural):\n",
    "    # no, you won't normally do this, but you CAN\n",
    "    return singular, plural \n",
    "\n",
    "\n",
    "print(madlib(\"lizard\", \"lizards\"))"
   ]
  },
  {
   "cell_type": "markdown",
   "metadata": {},
   "source": [
    "This isn't very juicy, but we can see that the input in going in and coming out.  Let's do something more.  What do we want our madlib to say?\n",
    "\n",
    "\"Nice `____` you have there. Where can I get some `____`?\"\n",
    "\n",
    "Let's also explore the meaning of using print and return statements.\n",
    "\n",
    "So in the following code we've got a print statement using the values in a larger thing and a return statement using just the input values. \n",
    "\n",
    "You may absolutely use print statements within your functions!  Be mindful that they can trip you up, but they can be an excellent tool for viewing what's going on within your function.\n",
    "\n",
    "Pay careful attention to the `return` statement needing to be the last thing in your function."
   ]
  },
  {
   "cell_type": "code",
   "execution_count": null,
   "metadata": {},
   "outputs": [],
   "source": [
    "def madlib(singular, plural):\n",
    "    print(\"Nice\", singular, \"you have there. Where can I get some\", plural + \"?\")\n",
    "    return singular, plural\n",
    "\n",
    "print(madlib(\"lizard\", \"lizards\"))"
   ]
  },
  {
   "cell_type": "markdown",
   "metadata": {},
   "source": [
    "Let's stop and think here for a second, we can just throw this into our print statement and see the results.  But we don't want just to print things later.  We want a string we can use!\n",
    "\n",
    "Instead of using the `print` statement to make it, I'm going to do some string concatenation to make it into one string.  Note that I'll need to add the spaces in explicitly, because I was previously depending on the print() function to add them for me.\n",
    "\n",
    "As you develop a function, you might start by printing values for testing, but you should quickly come back to the return statement."
   ]
  },
  {
   "cell_type": "code",
   "execution_count": null,
   "metadata": {},
   "outputs": [],
   "source": [
    "def madlib(singular, plural):\n",
    "    sentence = \"Nice \" + singular +  \" you have there. Where can I get some \" + plural + \"?\"\n",
    "\n",
    "madlib(\"lizard\", \"lizards\")"
   ]
  },
  {
   "cell_type": "markdown",
   "metadata": {},
   "source": [
    "Ohhh!  So I've run it but nothing has happened!  Why is that?  I'm not printing anything.  "
   ]
  },
  {
   "cell_type": "code",
   "execution_count": null,
   "metadata": {},
   "outputs": [],
   "source": [
    "def madlib(singular, plural):\n",
    "    sentence = \"Nice \" + singular +  \" you have there. Where can I get some \" + plural + \"?\"\n",
    "    \n",
    "print(madlib(\"lizard\", \"lizards\"))"
   ]
  },
  {
   "cell_type": "markdown",
   "metadata": {},
   "source": [
    "**Common problem!!!** What is this `None` crap?  This happens when you print the results of a function that has no return expression.  By default, functions return something.  So when you don't say what you want returned, it'll give you a `None` object.\n",
    "\n",
    "You can largely ignore what this thing is, but the solution to getting rid of it is adding a return expression."
   ]
  },
  {
   "cell_type": "code",
   "execution_count": null,
   "metadata": {},
   "outputs": [],
   "source": [
    "def madlib(singular, plural):\n",
    "    sentence = \"Nice \" + singular +  \" you have there. Where can I get some \" + plural + \"?\"\n",
    "    return sentence\n",
    "    \n",
    "print(madlib(\"lizard\", \"lizards\"))"
   ]
  },
  {
   "cell_type": "markdown",
   "metadata": {},
   "source": [
    "## Deeper dive into what `return` is\n",
    "\n",
    "Return tells the function what to pass back after execution.  Remember in the plumbing setup you were printing the value of the function call?\n",
    "\n",
    "So instead of printing a value for our human eyes via print, we can return back the value such that we can capture it in a variable.  Without a return we wouldn't be able to save the value returned from the function into a variable.\n",
    "\n",
    "`return` is completely different from `print`.  `print` spits out the content to the console, but you can't access the content.  Only view it.\n",
    "\n",
    "Meanwhile, `return` will actually pass the value back to you to capture.  You'd then need to print it directly, should you want to.\n",
    "\n",
    "Recall that sometimes you use functions that require a variable assignment to capture a new value.  Say we have a word and would like to know how long it is.  We know that we can use `len()` to get the number, and `print()` to see the results.  But what if we wanted to create a string of `-` that is however long our word is? We could do it all at once, but that can make our code look cluttered.  Instead, we want to save that value."
   ]
  },
  {
   "cell_type": "code",
   "execution_count": null,
   "metadata": {},
   "outputs": [],
   "source": [
    "def madlib(singular, plural):\n",
    "    sentence = \"Nice \" + singular +  \" you have there. Where can I get some \" + plural + \"?\"\n",
    "    return sentence\n",
    "    \n",
    "madlib(\"lizard\", \"lizards\")"
   ]
  },
  {
   "cell_type": "markdown",
   "metadata": {},
   "source": [
    "So in Jupyter notebooks this will print an output, **but try it in Spyder in a regular script.**  Nothing will print!  The value will exist, but be sent off into the ether.  Neither saved nor put in front of your eyes.\n",
    "\n",
    "You can do a few things here, but the two most straightforward are either printing the function call or saving the value to a variable (and then you can print that amongst other things). "
   ]
  },
  {
   "cell_type": "code",
   "execution_count": null,
   "metadata": {},
   "outputs": [],
   "source": [
    "def madlib(singular, plural):\n",
    "    sentence = \"Nice \" + singular +  \" you have there. Where can I get some \" + plural + \"?\"\n",
    "    return sentence\n",
    "    \n",
    "print(madlib(\"lizard\", \"lizards\"))"
   ]
  },
  {
   "cell_type": "code",
   "execution_count": null,
   "metadata": {},
   "outputs": [],
   "source": [
    "def madlib(singular, plural):\n",
    "    sentence = \"Nice \" + singular +  \" you have there. Where can I get some \" + plural + \"?\"\n",
    "    return sentence\n",
    "    \n",
    "result = madlib(\"lizard\", \"lizards\")\n",
    "print(result)"
   ]
  },
  {
   "cell_type": "code",
   "execution_count": null,
   "metadata": {},
   "outputs": [],
   "source": [
    "# proving we can send in variables and not just literals\n",
    "animal_singular = 'lizard'\n",
    "animal_plural = 'lizards' \n",
    "\n",
    "print(madlib(animal_singular, animal_plural))"
   ]
  },
  {
   "cell_type": "markdown",
   "metadata": {},
   "source": [
    "# All together now\n",
    "\n",
    "Let's look at how this can be seen in a larger program.  Say that we have a variety of word pairs and want to see them all.  This is where functions can come in handy.\n",
    "\n",
    "We can feed in other variables for our parameters."
   ]
  },
  {
   "cell_type": "code",
   "execution_count": null,
   "metadata": {},
   "outputs": [],
   "source": [
    "def madlib(singular, plural):\n",
    "    sentence = \"Nice \" + singular +  \" you have there. Where can I get some \" + plural + \"?\"\n",
    "    return sentence\n",
    "    \n",
    "    \n",
    "animal_singular = 'lizard'\n",
    "animal_plural = 'lizards' \n",
    "\n",
    "print(madlib(animal_singular, animal_plural))\n"
   ]
  },
  {
   "cell_type": "markdown",
   "metadata": {},
   "source": [
    "We can also call this multiple times in a clean way."
   ]
  },
  {
   "cell_type": "code",
   "execution_count": null,
   "metadata": {},
   "outputs": [],
   "source": [
    "def madlib(singular, plural):\n",
    "    sentence = \"Nice \" + singular +  \" you have there. Where can I get some \" + plural + \"?\"\n",
    "    return sentence\n",
    "    \n",
    "print(madlib(\"bird\", \"birds\"))\n",
    "print(madlib(\"cat\", \"cats\"))\n",
    "print(madlib(\"human\", \"humans\"))"
   ]
  },
  {
   "cell_type": "markdown",
   "metadata": {},
   "source": [
    "Things to note:\n",
    "\n",
    "* this function takes 2 parameters:  `singular` and `plural`\n",
    "* these parameter names are separated by a comma and appear in our `()` in the def line\n",
    "* the order that I report the variable names in the `()` matches the order that I have them in my function call\n",
    "* their parameter variable names don't match the \"outside world\" variable names that I call the function with\n",
    "* I don't even need to have a variable in there at all\n",
    "* the \"do stuff\" portion of my code uses both the parameter variable names, and not the outside world one"
   ]
  },
  {
   "cell_type": "markdown",
   "metadata": {},
   "source": [
    "Things to note:\n",
    "\n",
    "* again, I have full access to whatever is passed in, but I have to use the parameter variable names\n",
    "* these variables are normal--just named and defined in the function definition and calling process (respectively) so I can use all normal stuff at my disposal to work with that content\n",
    "* there are no visual cues in your function definition as to what your parameter data types will be, so be careful about your variable names"
   ]
  },
  {
   "cell_type": "code",
   "execution_count": null,
   "metadata": {},
   "outputs": [],
   "source": [
    "def madlib(singular, plural):\n",
    "    # doing this right\n",
    "    sentence = \"Nice \" + singular +  \" you have there. Where can I get some \" + plural + \"?\"\n",
    "    # doing this VERY WRONG\n",
    "    #sentence = \"Nice \" + word +  \" you have there. Where can I get some \" + word_plural + \"?\"\n",
    "    return sentence\n",
    "\n",
    "word = \"bird\"\n",
    "word_plural = \"birds\"\n",
    "print(madlib(word, word_plural))\n",
    "\n",
    "print(\"\\nProving a point, swapping the inputs:\")\n",
    "print(madlib(word_plural, word))"
   ]
  },
  {
   "cell_type": "markdown",
   "metadata": {},
   "source": [
    "## Scope\n",
    "\n",
    "Variables declared inside a function -- and that includes the parameters named inside the function declaration -- are only usable within that function. That is referred to as the variables having \"local scope\" within that function. If you try to use a local variable outside of its scope, you'll get an error. \n",
    "\n",
    "We've had a taste of something similar to scope, already -- remember when we tried to declare a variable inside an `if` block that never ran, and we got an error when we tried to access it later? Variables declared inside functions are a little bit like that. In the case of the variable in the `if` branch that was never taken, the variable was never declared. In the case of local variables, they are created when their parent function executes and then forgotten (as if they were never declared) when that function returns (ends).\n",
    "\n",
    "You may to be tempted to make things \"easier\" for yourself by only using global variables, so that you don't have to bother yourself about scope. Resist that temptation. (Also, that's definitely the kind of thing I take off points for, so ... it should be easier to resist.) "
   ]
  },
  {
   "cell_type": "code",
   "execution_count": null,
   "metadata": {},
   "outputs": [],
   "source": [
    "# playing around with scope\n",
    "def a_very_good_function(variable_a, variable_b):\n",
    "    a_local_variable = variable_a + variable_b\n",
    "    return a_local_variable\n",
    "\n",
    "print(a_local_variable)\n",
    "my_variable = a_very_good_function(40, 2)\n",
    "print(my_variable)\n",
    "print(a_local_variable)"
   ]
  },
  {
   "cell_type": "markdown",
   "metadata": {},
   "source": [
    "# A common mistake\n",
    "\n",
    "What happens if we try to save the returned value of a function that has no return statement?\n"
   ]
  },
  {
   "cell_type": "code",
   "execution_count": null,
   "metadata": {},
   "outputs": [],
   "source": [
    "def madlib(singular, plural):\n",
    "    sentence = \"Nice \" + singular +  \" you have there. Where can I get some \" + plural + \"?\"\n",
    "    print(sentence)\n",
    "    \n",
    "result = madlib(\"lizard\", \"lizards\")"
   ]
  },
  {
   "cell_type": "markdown",
   "metadata": {},
   "source": [
    "Wait, we can see the result there!  That seems fine, right?\n",
    "\n",
    "But where did we print from?  Inside the function.  We haven't done anything with our result variable.  Why don't we see what's inside?"
   ]
  },
  {
   "cell_type": "code",
   "execution_count": null,
   "metadata": {},
   "outputs": [],
   "source": [
    "print(result)"
   ]
  },
  {
   "cell_type": "markdown",
   "metadata": {},
   "source": [
    "That wasn't our intent there.  We wanted our sentence in there.\n",
    "\n",
    "Things to notice:\n",
    "\n",
    "* our result still printed, because the print statement behaves no differently when an assignment statement is used.\n",
    "* our stored value is `None` which is the default value a function returns when you do not specify a value to return.\n",
    "* even though we can see the result, we cannot capture a result from a print statement.\n",
    "\n",
    "This is sort of like listening to a voice mail without a pen and paper.  You can hear the results, which may be enough, but you can't capture the values.\n",
    "\n",
    "By default all functions return something.  When you don't specify something, it returns `None`.  Thus, if you start getting weird results with `None` all over the place, you've got an assignment statement on something that isn't returning anything.  Usually this means you've either forgotten to include a return statement, or you're trying to reassign the result of a function or method that is mutating an object in place (like appending to a list).\n",
    "\n",
    "Now we can add `return` to our function.  When starting out, you should always design your function's control flow so that the last line of the function is your return statement.  Python will stop running code in your function once it evaluates a return statement, so this can save you a lot of grief when getting started.  Once you are more comfortable, you can change your patterns up."
   ]
  },
  {
   "cell_type": "markdown",
   "metadata": {},
   "source": [
    "# function vital facts\n",
    "\n",
    "There is one piece of trivia worth memorizing:\n",
    "\n",
    "* you can have an unlimited number of `print` statements in your function, and they won't affect the control flow of the program\n",
    "* you can have an unlimited number of `return` statements in your function, but only the first one to be executed will run.  After that the function will stop running and control flow will go back to the main program (or, wherever comes after where you called that function)\n",
    "\n",
    "We can play with our second function to see this in action.\n",
    "\n",
    "First, I'll add a print statement before my return statement, and you can see it execute."
   ]
  },
  {
   "cell_type": "code",
   "execution_count": null,
   "metadata": {},
   "outputs": [],
   "source": [
    "def return_something_louder(phrase_str):\n",
    "    text = phrase_str.upper()\n",
    "    print(text) # here I've added a print statement\n",
    "    return text\n",
    "\n",
    "louder2 = return_something_louder(\"Hello, I would like to science.\")"
   ]
  },
  {
   "cell_type": "markdown",
   "metadata": {},
   "source": [
    "Next, I'll move that `print` statement so it is after the `return` statement, and you can see that it doesn't execute."
   ]
  },
  {
   "cell_type": "code",
   "execution_count": null,
   "metadata": {},
   "outputs": [],
   "source": [
    "def return_something_louder(phrase_str):\n",
    "    text = phrase_str.upper()\n",
    "    return text\n",
    "    print(text) # here I've added a print statement\n",
    "\n",
    "louder2 = return_something_louder(\"Hello, I would like to science.\")"
   ]
  },
  {
   "cell_type": "markdown",
   "metadata": {},
   "source": [
    "So you can see that nothing has happened, at least print-wise.  This is because that line literally never executes. \n",
    "\n",
    "We can see this more explicitly if we put in some code we know will cause an error, and yet that function will execute without it ever hitting that error."
   ]
  },
  {
   "cell_type": "code",
   "execution_count": null,
   "metadata": {},
   "outputs": [],
   "source": [
    "def return_something_louder(phrase_str):\n",
    "    text = phrase_str.upper()\n",
    "    return text\n",
    "    print(10/0) # this line will never run\n",
    "\n",
    "louder2 = return_something_louder(\"Hello, I would like to science.\")"
   ]
  },
  {
   "cell_type": "markdown",
   "metadata": {},
   "source": [
    "This can be quite sneaky, particularly as a newcomer not used to seeing these things.  Which is why, again, I suggest that you always design your functions so that the `return` is on the last line."
   ]
  },
  {
   "cell_type": "markdown",
   "metadata": {},
   "source": [
    "## Functions can return Boolean values\n",
    "\n",
    "I just wanted to make sure we're clear on this. It's important.\n",
    "\n",
    "Also important: you can use functions in conditional statements."
   ]
  },
  {
   "cell_type": "code",
   "execution_count": null,
   "metadata": {},
   "outputs": [],
   "source": [
    "def is_greater(value_a, value_b):\n",
    "    is_it_greater = False\n",
    "    if value_a > value_b:\n",
    "        is_it_greater = True\n",
    "    return is_it_greater\n",
    "\n",
    "# do we want to talk about any of the shortcuts I took there?\n",
    "# like why there wasn't an else?\n",
    "\n",
    "if is_greater(6, 5):\n",
    "    print(\"6 > 5\")\n",
    "else:\n",
    "    print(\"6 is not greater than 5\")"
   ]
  },
  {
   "cell_type": "markdown",
   "metadata": {},
   "source": [
    "## Keyword arguments\n",
    "\n",
    "You can have a good and happy Python-using life without ever writing a function with a keyword argument (I did for multiple years!), but it's really good that you will at least have seen this: you'll know what's going on when working with other folks' code. And they are really neat, if you do want to use them in your code! \n",
    "\n",
    "The main gist is that, instead of using parameters with positional requirements, you can use labeled parameters _with default values_. \n",
    "\n",
    "You've seen and probably used keyword arguments already:"
   ]
  },
  {
   "cell_type": "code",
   "execution_count": null,
   "metadata": {},
   "outputs": [],
   "source": [
    "print(\"Hello world!\", \"What a lovely Wednesday!\", sep=\"\\n\", end=\" \")\n",
    "print(\"This shows up on the same line.\")"
   ]
  },
  {
   "cell_type": "markdown",
   "metadata": {},
   "source": [
    "But we can also write functions with our own keyword arguments. "
   ]
  },
  {
   "cell_type": "code",
   "execution_count": null,
   "metadata": {},
   "outputs": [],
   "source": [
    "def madlib(singular=\"chicken\", plural=\"chickens\"):\n",
    "    sentence = \"Nice \" + singular +  \" you have there. Where can I get some \" + plural + \"?\"\n",
    "    return sentence\n",
    "    \n",
    "result = madlib(plural=\"lizards\", singular=\"lizard\")\n",
    "result2 = madlib()\n",
    "print(result, result2, sep=\"\\n\")"
   ]
  },
  {
   "cell_type": "markdown",
   "metadata": {
    "collapsed": true
   },
   "source": [
    "# Importing and modularity\n",
    "\n",
    "There is a lot of really good and useful code out there in modules. The book gave you examples from `random` and `math`, which I'll review here briefly, but there are _so many_. You'll use some for web scraping and working with APIs if you go on to Python 2, and those of you who are on the Data Analytics track will use some for dealing with data in DAT-202 (and also a little bit here, but _definitely_ in 202). \n",
    "\n",
    "And, as always, you have the ability to create your own, as well! \n",
    "\n",
    "## Pulling in a module\n",
    "\n",
    "To get access to the goodies inside a module, you need an import statement. These take a couple of different forms, but for now we will just focus on the most basic.\n",
    "\n",
    "Let's say we want access to pi. "
   ]
  },
  {
   "cell_type": "code",
   "execution_count": null,
   "metadata": {},
   "outputs": [],
   "source": [
    "import math\n",
    "\n",
    "print(math.pi)"
   ]
  },
  {
   "cell_type": "markdown",
   "metadata": {},
   "source": [
    "Let's look at our options for getting pseudorandom numbers (because that's a thing we're going to want to do from time to time throughout the semester!):\n",
    "* `random.randint(bottom_bound, top_bound)` - gives you a pseudorandom _integer_ between the bottom_bound and the top_bound, inclusive\n",
    "* `random.randrange(bottom_bound, top_bound, step)` - gives you a pseudorandom integer between the bottom_bound and **one less than the top_bound**, with a step value you can specify -- so you can get only even numbers, only numbers divisible by 5, etc.\n",
    "* `random.random()` - gives you a random float between 0 and 1 (not inclusive) - good for generating percentages!"
   ]
  },
  {
   "cell_type": "code",
   "execution_count": null,
   "metadata": {},
   "outputs": [],
   "source": [
    "import random\n",
    "\n",
    "print(random.randint(0, 100))\n",
    "print(random.randrange(0, 100, 2))\n",
    "print(random.randrange(0, 100, 5))\n",
    "print(format((random.random() * 100), '.2f'))"
   ]
  },
  {
   "cell_type": "markdown",
   "metadata": {
    "collapsed": true
   },
   "source": [
    "Because there are people in my life who play games that require multiple kinds of dice, I've written a program (available in the same directory as this notebook) called \"dice.py.\" You can roll a single virtual die with 4, 6, 8, 10, 12, or 20 sides by calling `d4()`, `d6()`, `d8()`, `d10()`, `d12()`, or `d20()`, respectively. If you run the file, it will give you a sample roll of each die type. \n",
    "\n",
    "If you import it, however, you can use those virtual dice for other things in your own program!"
   ]
  },
  {
   "cell_type": "code",
   "execution_count": null,
   "metadata": {},
   "outputs": [],
   "source": [
    "import dice\n",
    "\n",
    "print(dice.d4())"
   ]
  },
  {
   "cell_type": "markdown",
   "metadata": {},
   "source": [
    "The value of this might not be immediately apparent. I mean, that file only contains seven functions, most of them a single line long. Just pasting that into another program wouldn't make it _that much_ longer and harder to read. \n",
    "\n",
    "But imagine there were lots more types of dice (there are, actually! for fun geometry reasons, a lot of them are unfair, and for historical reasons, I guess?, the larger-number dice aren't used in any of the games my friends play). Imagine that you needed to write up a virtual game that used dice _and_ cards _and_ some other kind of game piece. Your program would get very large, very quickly, before you even got to the main logic block!\n",
    "\n",
    "Modularizing your code helps keep things neat.\n",
    "\n",
    "And since the Deitels brought it up, I guess I should show you a couple of the subtleties of importing modules..."
   ]
  },
  {
   "cell_type": "code",
   "execution_count": null,
   "metadata": {},
   "outputs": [],
   "source": [
    "# we can import in such a way that \n",
    "#we don't have to use the dot notation\n",
    "from dice import d4\n",
    "\n",
    "print(d4())\n",
    "\n",
    "from random import randint\n",
    "\n",
    "print(randint(0, 100))"
   ]
  },
  {
   "cell_type": "code",
   "execution_count": null,
   "metadata": {},
   "outputs": [],
   "source": [
    "import random as rand\n",
    "\n",
    "print(rand.randint(0, 100))"
   ]
  },
  {
   "cell_type": "markdown",
   "metadata": {},
   "source": [
    "# main()\n",
    "\n",
    "OK, so. You do not strictly _have_ to have a main() function defined in your Python scripts for them to run. (This is mind-blowing for people coming from other programming languages.) Even if you have other functions, you can just put the main logic of your program at the bottom, outside of any function, and it will run.\n",
    "\n",
    "But.\n",
    "\n",
    "Using it will help you.\n",
    "\n",
    "So I will show you, and then I will try to remember to do it for the rest of my solutions. Because it can save you different kinds of trouble at different stages of your development as a programmer.\n",
    "\n",
    "Short-term, remember the example above where I \"accidentally\" used my global variables instead of the parameters of my function? (Yeah, it was a contrived example, but this is an _easy_ mistake to make, honestly.) Well, having your primary logic in a main() block will help prevent that sort of trouble, because those variables will no longer be global. \n",
    "\n",
    "Mid-term, having your logic in a main() block should prevent it from running if you import your script into another script. The time when you'll want to do this will come sooner than you think.\n",
    "\n",
    "Long-term, big systems (like web frameworks, for instance) do this, and it's just a good habit that will look good to other developers who read your code. That said, if you want to develop __really__ good habits, you'll add one more piece to the puzzle, and your scripts will look like this:\n",
    "\n",
    "```python\n",
    "import modules\n",
    "# as many more import statements as you need\n",
    "\n",
    "def functions():\n",
    "    function stuff\n",
    "    \n",
    "# as many more functions as you need\n",
    "\n",
    "# here we define our main code block\n",
    "def main():\n",
    "    # the main logic of your program\n",
    "    # if this starts to get very long, you need more functions\n",
    "    # all those functions you defined above get called in here\n",
    "        # (or maybe they get called inside one another, which\n",
    "        # is also great)\n",
    "    \n",
    "# and we run it with this incantation\n",
    "if __name__ == \"__main__\":\n",
    "    main()\n",
    "    \n",
    "```\n",
    "\n",
    "That ugly-looking little piece at the bottom is what really keeps your main() function from being called if you import your script into another script. It just means \"If this script is being called directly, rather than from another script.\" \n",
    "\n",
    "It's one of the ugliest things in Python, and any piece of code big enough, with enough other pieces, will have it. So let's use it. Add it to your template for class project files.\n",
    "\n",
    "(Uh... experienced programmer tip: most of us don't actually start with empty files, most of the time, especially if we're part of an organization--like a Python class or most companies' development teams--where we are supposed to follow some kind of formatting guidelines. We save a generic version of a file that follows those guidelines and customize it every time.) "
   ]
  },
  {
   "cell_type": "code",
   "execution_count": null,
   "metadata": {},
   "outputs": [],
   "source": [
    "# protecting ourselves from scope errors\n",
    "def madlib(singular, plural):\n",
    "    # doing this right\n",
    "    sentence = \"Nice \" + singular +  \" you have there. Where can I get some \" + plural + \"?\"\n",
    "    # doing this VERY WRONG\n",
    "    #sentence = \"Nice \" + word +  \" you have there. Where can I get some \" + word_plural + \"?\"\n",
    "    return sentence\n",
    "\n",
    "def main():\n",
    "    word = \"bird\"\n",
    "    word_plural = \"birds\"\n",
    "    print(madlib(word, word_plural))\n",
    "\n",
    "    print(\"\\nProving a point, swapping the inputs:\")\n",
    "    print(madlib(word_plural, word))\n",
    "    \n",
    "if __name__ == \"__main__\":\n",
    "    main()"
   ]
  },
  {
   "cell_type": "code",
   "execution_count": null,
   "metadata": {},
   "outputs": [],
   "source": []
  }
 ],
 "metadata": {
  "anaconda-cloud": {},
  "kernelspec": {
   "display_name": "Python 3",
   "language": "python",
   "name": "python3"
  },
  "language_info": {
   "codemirror_mode": {
    "name": "ipython",
    "version": 3
   },
   "file_extension": ".py",
   "mimetype": "text/x-python",
   "name": "python",
   "nbconvert_exporter": "python",
   "pygments_lexer": "ipython3",
   "version": "3.7.1"
  }
 },
 "nbformat": 4,
 "nbformat_minor": 1
}
